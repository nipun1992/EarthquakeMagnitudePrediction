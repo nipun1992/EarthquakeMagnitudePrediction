{
 "cells": [
  {
   "cell_type": "markdown",
   "metadata": {},
   "source": [
    "# Earthquake dataset"
   ]
  },
  {
   "cell_type": "markdown",
   "metadata": {},
   "source": [
    "**We will create a machine learning model to predict the magnitude of an earthquake**"
   ]
  },
  {
   "cell_type": "markdown",
   "metadata": {},
   "source": [
    "#### Importing the required libraries"
   ]
  },
  {
   "cell_type": "code",
   "execution_count": 1,
   "metadata": {},
   "outputs": [],
   "source": [
    "import pandas as pd\n",
    "import numpy as np\n",
    "from matplotlib import pyplot as plt\n",
    "%matplotlib inline\n",
    "import seaborn as sns"
   ]
  },
  {
   "cell_type": "markdown",
   "metadata": {},
   "source": [
    "#### Reading the dataset"
   ]
  },
  {
   "cell_type": "code",
   "execution_count": 2,
   "metadata": {},
   "outputs": [],
   "source": [
    "df = pd.read_csv('Earthquake.csv')"
   ]
  },
  {
   "cell_type": "code",
   "execution_count": 3,
   "metadata": {},
   "outputs": [
    {
     "data": {
      "text/html": [
       "<div>\n",
       "<style scoped>\n",
       "    .dataframe tbody tr th:only-of-type {\n",
       "        vertical-align: middle;\n",
       "    }\n",
       "\n",
       "    .dataframe tbody tr th {\n",
       "        vertical-align: top;\n",
       "    }\n",
       "\n",
       "    .dataframe thead th {\n",
       "        text-align: right;\n",
       "    }\n",
       "</style>\n",
       "<table border=\"1\" class=\"dataframe\">\n",
       "  <thead>\n",
       "    <tr style=\"text-align: right;\">\n",
       "      <th></th>\n",
       "      <th>Date</th>\n",
       "      <th>Time</th>\n",
       "      <th>Latitude</th>\n",
       "      <th>Longitude</th>\n",
       "      <th>Type</th>\n",
       "      <th>Depth</th>\n",
       "      <th>Depth Error</th>\n",
       "      <th>Depth Seismic Stations</th>\n",
       "      <th>Magnitude</th>\n",
       "      <th>Magnitude Type</th>\n",
       "      <th>...</th>\n",
       "      <th>Magnitude Seismic Stations</th>\n",
       "      <th>Azimuthal Gap</th>\n",
       "      <th>Horizontal Distance</th>\n",
       "      <th>Horizontal Error</th>\n",
       "      <th>Root Mean Square</th>\n",
       "      <th>ID</th>\n",
       "      <th>Source</th>\n",
       "      <th>Location Source</th>\n",
       "      <th>Magnitude Source</th>\n",
       "      <th>Status</th>\n",
       "    </tr>\n",
       "  </thead>\n",
       "  <tbody>\n",
       "    <tr>\n",
       "      <th>0</th>\n",
       "      <td>1/2/1965</td>\n",
       "      <td>13:44:18</td>\n",
       "      <td>19.246</td>\n",
       "      <td>145.616</td>\n",
       "      <td>Earthquake</td>\n",
       "      <td>131.6</td>\n",
       "      <td>NaN</td>\n",
       "      <td>NaN</td>\n",
       "      <td>6.0</td>\n",
       "      <td>MW</td>\n",
       "      <td>...</td>\n",
       "      <td>NaN</td>\n",
       "      <td>NaN</td>\n",
       "      <td>NaN</td>\n",
       "      <td>NaN</td>\n",
       "      <td>NaN</td>\n",
       "      <td>ISCGEM860706</td>\n",
       "      <td>ISCGEM</td>\n",
       "      <td>ISCGEM</td>\n",
       "      <td>ISCGEM</td>\n",
       "      <td>Automatic</td>\n",
       "    </tr>\n",
       "    <tr>\n",
       "      <th>1</th>\n",
       "      <td>1/4/1965</td>\n",
       "      <td>11:29:49</td>\n",
       "      <td>1.863</td>\n",
       "      <td>127.352</td>\n",
       "      <td>Earthquake</td>\n",
       "      <td>80.0</td>\n",
       "      <td>NaN</td>\n",
       "      <td>NaN</td>\n",
       "      <td>5.8</td>\n",
       "      <td>MW</td>\n",
       "      <td>...</td>\n",
       "      <td>NaN</td>\n",
       "      <td>NaN</td>\n",
       "      <td>NaN</td>\n",
       "      <td>NaN</td>\n",
       "      <td>NaN</td>\n",
       "      <td>ISCGEM860737</td>\n",
       "      <td>ISCGEM</td>\n",
       "      <td>ISCGEM</td>\n",
       "      <td>ISCGEM</td>\n",
       "      <td>Automatic</td>\n",
       "    </tr>\n",
       "    <tr>\n",
       "      <th>2</th>\n",
       "      <td>1/5/1965</td>\n",
       "      <td>18:05:58</td>\n",
       "      <td>-20.579</td>\n",
       "      <td>-173.972</td>\n",
       "      <td>Earthquake</td>\n",
       "      <td>20.0</td>\n",
       "      <td>NaN</td>\n",
       "      <td>NaN</td>\n",
       "      <td>6.2</td>\n",
       "      <td>MW</td>\n",
       "      <td>...</td>\n",
       "      <td>NaN</td>\n",
       "      <td>NaN</td>\n",
       "      <td>NaN</td>\n",
       "      <td>NaN</td>\n",
       "      <td>NaN</td>\n",
       "      <td>ISCGEM860762</td>\n",
       "      <td>ISCGEM</td>\n",
       "      <td>ISCGEM</td>\n",
       "      <td>ISCGEM</td>\n",
       "      <td>Automatic</td>\n",
       "    </tr>\n",
       "    <tr>\n",
       "      <th>3</th>\n",
       "      <td>1/8/1965</td>\n",
       "      <td>18:49:43</td>\n",
       "      <td>-59.076</td>\n",
       "      <td>-23.557</td>\n",
       "      <td>Earthquake</td>\n",
       "      <td>15.0</td>\n",
       "      <td>NaN</td>\n",
       "      <td>NaN</td>\n",
       "      <td>5.8</td>\n",
       "      <td>MW</td>\n",
       "      <td>...</td>\n",
       "      <td>NaN</td>\n",
       "      <td>NaN</td>\n",
       "      <td>NaN</td>\n",
       "      <td>NaN</td>\n",
       "      <td>NaN</td>\n",
       "      <td>ISCGEM860856</td>\n",
       "      <td>ISCGEM</td>\n",
       "      <td>ISCGEM</td>\n",
       "      <td>ISCGEM</td>\n",
       "      <td>Automatic</td>\n",
       "    </tr>\n",
       "    <tr>\n",
       "      <th>4</th>\n",
       "      <td>1/9/1965</td>\n",
       "      <td>13:32:50</td>\n",
       "      <td>11.938</td>\n",
       "      <td>126.427</td>\n",
       "      <td>Earthquake</td>\n",
       "      <td>15.0</td>\n",
       "      <td>NaN</td>\n",
       "      <td>NaN</td>\n",
       "      <td>5.8</td>\n",
       "      <td>MW</td>\n",
       "      <td>...</td>\n",
       "      <td>NaN</td>\n",
       "      <td>NaN</td>\n",
       "      <td>NaN</td>\n",
       "      <td>NaN</td>\n",
       "      <td>NaN</td>\n",
       "      <td>ISCGEM860890</td>\n",
       "      <td>ISCGEM</td>\n",
       "      <td>ISCGEM</td>\n",
       "      <td>ISCGEM</td>\n",
       "      <td>Automatic</td>\n",
       "    </tr>\n",
       "    <tr>\n",
       "      <th>5</th>\n",
       "      <td>1/10/1965</td>\n",
       "      <td>13:36:32</td>\n",
       "      <td>-13.405</td>\n",
       "      <td>166.629</td>\n",
       "      <td>Earthquake</td>\n",
       "      <td>35.0</td>\n",
       "      <td>NaN</td>\n",
       "      <td>NaN</td>\n",
       "      <td>6.7</td>\n",
       "      <td>MW</td>\n",
       "      <td>...</td>\n",
       "      <td>NaN</td>\n",
       "      <td>NaN</td>\n",
       "      <td>NaN</td>\n",
       "      <td>NaN</td>\n",
       "      <td>NaN</td>\n",
       "      <td>ISCGEM860922</td>\n",
       "      <td>ISCGEM</td>\n",
       "      <td>ISCGEM</td>\n",
       "      <td>ISCGEM</td>\n",
       "      <td>Automatic</td>\n",
       "    </tr>\n",
       "    <tr>\n",
       "      <th>6</th>\n",
       "      <td>1/12/1965</td>\n",
       "      <td>13:32:25</td>\n",
       "      <td>27.357</td>\n",
       "      <td>87.867</td>\n",
       "      <td>Earthquake</td>\n",
       "      <td>20.0</td>\n",
       "      <td>NaN</td>\n",
       "      <td>NaN</td>\n",
       "      <td>5.9</td>\n",
       "      <td>MW</td>\n",
       "      <td>...</td>\n",
       "      <td>NaN</td>\n",
       "      <td>NaN</td>\n",
       "      <td>NaN</td>\n",
       "      <td>NaN</td>\n",
       "      <td>NaN</td>\n",
       "      <td>ISCGEM861007</td>\n",
       "      <td>ISCGEM</td>\n",
       "      <td>ISCGEM</td>\n",
       "      <td>ISCGEM</td>\n",
       "      <td>Automatic</td>\n",
       "    </tr>\n",
       "    <tr>\n",
       "      <th>7</th>\n",
       "      <td>1/15/1965</td>\n",
       "      <td>23:17:42</td>\n",
       "      <td>-13.309</td>\n",
       "      <td>166.212</td>\n",
       "      <td>Earthquake</td>\n",
       "      <td>35.0</td>\n",
       "      <td>NaN</td>\n",
       "      <td>NaN</td>\n",
       "      <td>6.0</td>\n",
       "      <td>MW</td>\n",
       "      <td>...</td>\n",
       "      <td>NaN</td>\n",
       "      <td>NaN</td>\n",
       "      <td>NaN</td>\n",
       "      <td>NaN</td>\n",
       "      <td>NaN</td>\n",
       "      <td>ISCGEM861111</td>\n",
       "      <td>ISCGEM</td>\n",
       "      <td>ISCGEM</td>\n",
       "      <td>ISCGEM</td>\n",
       "      <td>Automatic</td>\n",
       "    </tr>\n",
       "    <tr>\n",
       "      <th>8</th>\n",
       "      <td>1/16/1965</td>\n",
       "      <td>11:32:37</td>\n",
       "      <td>-56.452</td>\n",
       "      <td>-27.043</td>\n",
       "      <td>Earthquake</td>\n",
       "      <td>95.0</td>\n",
       "      <td>NaN</td>\n",
       "      <td>NaN</td>\n",
       "      <td>6.0</td>\n",
       "      <td>MW</td>\n",
       "      <td>...</td>\n",
       "      <td>NaN</td>\n",
       "      <td>NaN</td>\n",
       "      <td>NaN</td>\n",
       "      <td>NaN</td>\n",
       "      <td>NaN</td>\n",
       "      <td>ISCGEMSUP861125</td>\n",
       "      <td>ISCGEMSUP</td>\n",
       "      <td>ISCGEM</td>\n",
       "      <td>ISCGEM</td>\n",
       "      <td>Automatic</td>\n",
       "    </tr>\n",
       "    <tr>\n",
       "      <th>9</th>\n",
       "      <td>1/17/1965</td>\n",
       "      <td>10:43:17</td>\n",
       "      <td>-24.563</td>\n",
       "      <td>178.487</td>\n",
       "      <td>Earthquake</td>\n",
       "      <td>565.0</td>\n",
       "      <td>NaN</td>\n",
       "      <td>NaN</td>\n",
       "      <td>5.8</td>\n",
       "      <td>MW</td>\n",
       "      <td>...</td>\n",
       "      <td>NaN</td>\n",
       "      <td>NaN</td>\n",
       "      <td>NaN</td>\n",
       "      <td>NaN</td>\n",
       "      <td>NaN</td>\n",
       "      <td>ISCGEM861148</td>\n",
       "      <td>ISCGEM</td>\n",
       "      <td>ISCGEM</td>\n",
       "      <td>ISCGEM</td>\n",
       "      <td>Automatic</td>\n",
       "    </tr>\n",
       "  </tbody>\n",
       "</table>\n",
       "<p>10 rows × 21 columns</p>\n",
       "</div>"
      ],
      "text/plain": [
       "        Date      Time  Latitude  Longitude        Type  Depth  Depth Error  \\\n",
       "0   1/2/1965  13:44:18    19.246    145.616  Earthquake  131.6          NaN   \n",
       "1   1/4/1965  11:29:49     1.863    127.352  Earthquake   80.0          NaN   \n",
       "2   1/5/1965  18:05:58   -20.579   -173.972  Earthquake   20.0          NaN   \n",
       "3   1/8/1965  18:49:43   -59.076    -23.557  Earthquake   15.0          NaN   \n",
       "4   1/9/1965  13:32:50    11.938    126.427  Earthquake   15.0          NaN   \n",
       "5  1/10/1965  13:36:32   -13.405    166.629  Earthquake   35.0          NaN   \n",
       "6  1/12/1965  13:32:25    27.357     87.867  Earthquake   20.0          NaN   \n",
       "7  1/15/1965  23:17:42   -13.309    166.212  Earthquake   35.0          NaN   \n",
       "8  1/16/1965  11:32:37   -56.452    -27.043  Earthquake   95.0          NaN   \n",
       "9  1/17/1965  10:43:17   -24.563    178.487  Earthquake  565.0          NaN   \n",
       "\n",
       "   Depth Seismic Stations  Magnitude Magnitude Type  ...  \\\n",
       "0                     NaN        6.0             MW  ...   \n",
       "1                     NaN        5.8             MW  ...   \n",
       "2                     NaN        6.2             MW  ...   \n",
       "3                     NaN        5.8             MW  ...   \n",
       "4                     NaN        5.8             MW  ...   \n",
       "5                     NaN        6.7             MW  ...   \n",
       "6                     NaN        5.9             MW  ...   \n",
       "7                     NaN        6.0             MW  ...   \n",
       "8                     NaN        6.0             MW  ...   \n",
       "9                     NaN        5.8             MW  ...   \n",
       "\n",
       "   Magnitude Seismic Stations  Azimuthal Gap  Horizontal Distance  \\\n",
       "0                         NaN            NaN                  NaN   \n",
       "1                         NaN            NaN                  NaN   \n",
       "2                         NaN            NaN                  NaN   \n",
       "3                         NaN            NaN                  NaN   \n",
       "4                         NaN            NaN                  NaN   \n",
       "5                         NaN            NaN                  NaN   \n",
       "6                         NaN            NaN                  NaN   \n",
       "7                         NaN            NaN                  NaN   \n",
       "8                         NaN            NaN                  NaN   \n",
       "9                         NaN            NaN                  NaN   \n",
       "\n",
       "   Horizontal Error  Root Mean Square               ID     Source  \\\n",
       "0               NaN               NaN     ISCGEM860706     ISCGEM   \n",
       "1               NaN               NaN     ISCGEM860737     ISCGEM   \n",
       "2               NaN               NaN     ISCGEM860762     ISCGEM   \n",
       "3               NaN               NaN     ISCGEM860856     ISCGEM   \n",
       "4               NaN               NaN     ISCGEM860890     ISCGEM   \n",
       "5               NaN               NaN     ISCGEM860922     ISCGEM   \n",
       "6               NaN               NaN     ISCGEM861007     ISCGEM   \n",
       "7               NaN               NaN     ISCGEM861111     ISCGEM   \n",
       "8               NaN               NaN  ISCGEMSUP861125  ISCGEMSUP   \n",
       "9               NaN               NaN     ISCGEM861148     ISCGEM   \n",
       "\n",
       "  Location Source Magnitude Source     Status  \n",
       "0          ISCGEM           ISCGEM  Automatic  \n",
       "1          ISCGEM           ISCGEM  Automatic  \n",
       "2          ISCGEM           ISCGEM  Automatic  \n",
       "3          ISCGEM           ISCGEM  Automatic  \n",
       "4          ISCGEM           ISCGEM  Automatic  \n",
       "5          ISCGEM           ISCGEM  Automatic  \n",
       "6          ISCGEM           ISCGEM  Automatic  \n",
       "7          ISCGEM           ISCGEM  Automatic  \n",
       "8          ISCGEM           ISCGEM  Automatic  \n",
       "9          ISCGEM           ISCGEM  Automatic  \n",
       "\n",
       "[10 rows x 21 columns]"
      ]
     },
     "execution_count": 3,
     "metadata": {},
     "output_type": "execute_result"
    }
   ],
   "source": [
    "df.head(10)"
   ]
  },
  {
   "cell_type": "code",
   "execution_count": 4,
   "metadata": {},
   "outputs": [
    {
     "name": "stdout",
     "output_type": "stream",
     "text": [
      "<class 'pandas.core.frame.DataFrame'>\n",
      "RangeIndex: 23412 entries, 0 to 23411\n",
      "Data columns (total 21 columns):\n",
      " #   Column                      Non-Null Count  Dtype  \n",
      "---  ------                      --------------  -----  \n",
      " 0   Date                        23412 non-null  object \n",
      " 1   Time                        23412 non-null  object \n",
      " 2   Latitude                    23412 non-null  float64\n",
      " 3   Longitude                   23412 non-null  float64\n",
      " 4   Type                        23412 non-null  object \n",
      " 5   Depth                       23412 non-null  float64\n",
      " 6   Depth Error                 4461 non-null   float64\n",
      " 7   Depth Seismic Stations      7097 non-null   float64\n",
      " 8   Magnitude                   23412 non-null  float64\n",
      " 9   Magnitude Type              23409 non-null  object \n",
      " 10  Magnitude Error             327 non-null    float64\n",
      " 11  Magnitude Seismic Stations  2564 non-null   float64\n",
      " 12  Azimuthal Gap               7299 non-null   float64\n",
      " 13  Horizontal Distance         1604 non-null   float64\n",
      " 14  Horizontal Error            1156 non-null   float64\n",
      " 15  Root Mean Square            17352 non-null  float64\n",
      " 16  ID                          23412 non-null  object \n",
      " 17  Source                      23412 non-null  object \n",
      " 18  Location Source             23412 non-null  object \n",
      " 19  Magnitude Source            23412 non-null  object \n",
      " 20  Status                      23412 non-null  object \n",
      "dtypes: float64(12), object(9)\n",
      "memory usage: 3.8+ MB\n"
     ]
    }
   ],
   "source": [
    "df.info()"
   ]
  },
  {
   "cell_type": "markdown",
   "metadata": {},
   "source": [
    "*The dataset has 9 categorical columns and 12 numerical columns. Some columns have missing values. *The shape of the dataframe shows that there 23412 rows in the dataset and 21 columns/features**"
   ]
  },
  {
   "cell_type": "code",
   "execution_count": 5,
   "metadata": {},
   "outputs": [
    {
     "data": {
      "text/html": [
       "<div>\n",
       "<style scoped>\n",
       "    .dataframe tbody tr th:only-of-type {\n",
       "        vertical-align: middle;\n",
       "    }\n",
       "\n",
       "    .dataframe tbody tr th {\n",
       "        vertical-align: top;\n",
       "    }\n",
       "\n",
       "    .dataframe thead th {\n",
       "        text-align: right;\n",
       "    }\n",
       "</style>\n",
       "<table border=\"1\" class=\"dataframe\">\n",
       "  <thead>\n",
       "    <tr style=\"text-align: right;\">\n",
       "      <th></th>\n",
       "      <th>Latitude</th>\n",
       "      <th>Longitude</th>\n",
       "      <th>Depth</th>\n",
       "      <th>Depth Error</th>\n",
       "      <th>Depth Seismic Stations</th>\n",
       "      <th>Magnitude</th>\n",
       "      <th>Magnitude Error</th>\n",
       "      <th>Magnitude Seismic Stations</th>\n",
       "      <th>Azimuthal Gap</th>\n",
       "      <th>Horizontal Distance</th>\n",
       "      <th>Horizontal Error</th>\n",
       "      <th>Root Mean Square</th>\n",
       "    </tr>\n",
       "  </thead>\n",
       "  <tbody>\n",
       "    <tr>\n",
       "      <th>count</th>\n",
       "      <td>23412.000000</td>\n",
       "      <td>23412.000000</td>\n",
       "      <td>23412.000000</td>\n",
       "      <td>4461.000000</td>\n",
       "      <td>7097.000000</td>\n",
       "      <td>23412.000000</td>\n",
       "      <td>327.000000</td>\n",
       "      <td>2564.000000</td>\n",
       "      <td>7299.000000</td>\n",
       "      <td>1604.000000</td>\n",
       "      <td>1156.000000</td>\n",
       "      <td>17352.000000</td>\n",
       "    </tr>\n",
       "    <tr>\n",
       "      <th>mean</th>\n",
       "      <td>1.679033</td>\n",
       "      <td>39.639961</td>\n",
       "      <td>70.767911</td>\n",
       "      <td>4.993115</td>\n",
       "      <td>275.364098</td>\n",
       "      <td>5.882531</td>\n",
       "      <td>0.071820</td>\n",
       "      <td>48.944618</td>\n",
       "      <td>44.163532</td>\n",
       "      <td>3.992660</td>\n",
       "      <td>7.662759</td>\n",
       "      <td>1.022784</td>\n",
       "    </tr>\n",
       "    <tr>\n",
       "      <th>std</th>\n",
       "      <td>30.113183</td>\n",
       "      <td>125.511959</td>\n",
       "      <td>122.651898</td>\n",
       "      <td>4.875184</td>\n",
       "      <td>162.141631</td>\n",
       "      <td>0.423066</td>\n",
       "      <td>0.051466</td>\n",
       "      <td>62.943106</td>\n",
       "      <td>32.141486</td>\n",
       "      <td>5.377262</td>\n",
       "      <td>10.430396</td>\n",
       "      <td>0.188545</td>\n",
       "    </tr>\n",
       "    <tr>\n",
       "      <th>min</th>\n",
       "      <td>-77.080000</td>\n",
       "      <td>-179.997000</td>\n",
       "      <td>-1.100000</td>\n",
       "      <td>0.000000</td>\n",
       "      <td>0.000000</td>\n",
       "      <td>5.500000</td>\n",
       "      <td>0.000000</td>\n",
       "      <td>0.000000</td>\n",
       "      <td>0.000000</td>\n",
       "      <td>0.004505</td>\n",
       "      <td>0.085000</td>\n",
       "      <td>0.000000</td>\n",
       "    </tr>\n",
       "    <tr>\n",
       "      <th>25%</th>\n",
       "      <td>-18.653000</td>\n",
       "      <td>-76.349750</td>\n",
       "      <td>14.522500</td>\n",
       "      <td>1.800000</td>\n",
       "      <td>146.000000</td>\n",
       "      <td>5.600000</td>\n",
       "      <td>0.046000</td>\n",
       "      <td>10.000000</td>\n",
       "      <td>24.100000</td>\n",
       "      <td>0.968750</td>\n",
       "      <td>5.300000</td>\n",
       "      <td>0.900000</td>\n",
       "    </tr>\n",
       "    <tr>\n",
       "      <th>50%</th>\n",
       "      <td>-3.568500</td>\n",
       "      <td>103.982000</td>\n",
       "      <td>33.000000</td>\n",
       "      <td>3.500000</td>\n",
       "      <td>255.000000</td>\n",
       "      <td>5.700000</td>\n",
       "      <td>0.059000</td>\n",
       "      <td>28.000000</td>\n",
       "      <td>36.000000</td>\n",
       "      <td>2.319500</td>\n",
       "      <td>6.700000</td>\n",
       "      <td>1.000000</td>\n",
       "    </tr>\n",
       "    <tr>\n",
       "      <th>75%</th>\n",
       "      <td>26.190750</td>\n",
       "      <td>145.026250</td>\n",
       "      <td>54.000000</td>\n",
       "      <td>6.300000</td>\n",
       "      <td>384.000000</td>\n",
       "      <td>6.000000</td>\n",
       "      <td>0.075500</td>\n",
       "      <td>66.000000</td>\n",
       "      <td>54.000000</td>\n",
       "      <td>4.724500</td>\n",
       "      <td>8.100000</td>\n",
       "      <td>1.130000</td>\n",
       "    </tr>\n",
       "    <tr>\n",
       "      <th>max</th>\n",
       "      <td>86.005000</td>\n",
       "      <td>179.998000</td>\n",
       "      <td>700.000000</td>\n",
       "      <td>91.295000</td>\n",
       "      <td>934.000000</td>\n",
       "      <td>9.100000</td>\n",
       "      <td>0.410000</td>\n",
       "      <td>821.000000</td>\n",
       "      <td>360.000000</td>\n",
       "      <td>37.874000</td>\n",
       "      <td>99.000000</td>\n",
       "      <td>3.440000</td>\n",
       "    </tr>\n",
       "  </tbody>\n",
       "</table>\n",
       "</div>"
      ],
      "text/plain": [
       "           Latitude     Longitude         Depth  Depth Error  \\\n",
       "count  23412.000000  23412.000000  23412.000000  4461.000000   \n",
       "mean       1.679033     39.639961     70.767911     4.993115   \n",
       "std       30.113183    125.511959    122.651898     4.875184   \n",
       "min      -77.080000   -179.997000     -1.100000     0.000000   \n",
       "25%      -18.653000    -76.349750     14.522500     1.800000   \n",
       "50%       -3.568500    103.982000     33.000000     3.500000   \n",
       "75%       26.190750    145.026250     54.000000     6.300000   \n",
       "max       86.005000    179.998000    700.000000    91.295000   \n",
       "\n",
       "       Depth Seismic Stations     Magnitude  Magnitude Error  \\\n",
       "count             7097.000000  23412.000000       327.000000   \n",
       "mean               275.364098      5.882531         0.071820   \n",
       "std                162.141631      0.423066         0.051466   \n",
       "min                  0.000000      5.500000         0.000000   \n",
       "25%                146.000000      5.600000         0.046000   \n",
       "50%                255.000000      5.700000         0.059000   \n",
       "75%                384.000000      6.000000         0.075500   \n",
       "max                934.000000      9.100000         0.410000   \n",
       "\n",
       "       Magnitude Seismic Stations  Azimuthal Gap  Horizontal Distance  \\\n",
       "count                 2564.000000    7299.000000          1604.000000   \n",
       "mean                    48.944618      44.163532             3.992660   \n",
       "std                     62.943106      32.141486             5.377262   \n",
       "min                      0.000000       0.000000             0.004505   \n",
       "25%                     10.000000      24.100000             0.968750   \n",
       "50%                     28.000000      36.000000             2.319500   \n",
       "75%                     66.000000      54.000000             4.724500   \n",
       "max                    821.000000     360.000000            37.874000   \n",
       "\n",
       "       Horizontal Error  Root Mean Square  \n",
       "count       1156.000000      17352.000000  \n",
       "mean           7.662759          1.022784  \n",
       "std           10.430396          0.188545  \n",
       "min            0.085000          0.000000  \n",
       "25%            5.300000          0.900000  \n",
       "50%            6.700000          1.000000  \n",
       "75%            8.100000          1.130000  \n",
       "max           99.000000          3.440000  "
      ]
     },
     "execution_count": 5,
     "metadata": {},
     "output_type": "execute_result"
    }
   ],
   "source": [
    "df.describe()"
   ]
  },
  {
   "cell_type": "code",
   "execution_count": 6,
   "metadata": {},
   "outputs": [
    {
     "data": {
      "text/plain": [
       "Date                              0\n",
       "Time                              0\n",
       "Latitude                          0\n",
       "Longitude                         0\n",
       "Type                              0\n",
       "Depth                             0\n",
       "Depth Error                   18951\n",
       "Depth Seismic Stations        16315\n",
       "Magnitude                         0\n",
       "Magnitude Type                    3\n",
       "Magnitude Error               23085\n",
       "Magnitude Seismic Stations    20848\n",
       "Azimuthal Gap                 16113\n",
       "Horizontal Distance           21808\n",
       "Horizontal Error              22256\n",
       "Root Mean Square               6060\n",
       "ID                                0\n",
       "Source                            0\n",
       "Location Source                   0\n",
       "Magnitude Source                  0\n",
       "Status                            0\n",
       "dtype: int64"
      ]
     },
     "execution_count": 6,
     "metadata": {},
     "output_type": "execute_result"
    }
   ],
   "source": [
    "df.isnull().sum()"
   ]
  },
  {
   "cell_type": "markdown",
   "metadata": {},
   "source": [
    "*There are high number of missing values for the columns Depth Error, Depth Seismic Stations, Magnitude Error, Magnitude Seismic Stations, Azimuthal Gap, Horizontal Distance and Horizontal Error. We can drop these columns as they large number of missing values. For Root Mean Square column, we can replace the missing values with mean/median value*"
   ]
  },
  {
   "cell_type": "code",
   "execution_count": 7,
   "metadata": {},
   "outputs": [],
   "source": [
    "df = df.drop(['Magnitude Error', 'Magnitude Seismic Stations', 'Horizontal Distance', 'Horizontal Error'], axis=1)"
   ]
  },
  {
   "cell_type": "code",
   "execution_count": 8,
   "metadata": {},
   "outputs": [
    {
     "data": {
      "text/html": [
       "<div>\n",
       "<style scoped>\n",
       "    .dataframe tbody tr th:only-of-type {\n",
       "        vertical-align: middle;\n",
       "    }\n",
       "\n",
       "    .dataframe tbody tr th {\n",
       "        vertical-align: top;\n",
       "    }\n",
       "\n",
       "    .dataframe thead th {\n",
       "        text-align: right;\n",
       "    }\n",
       "</style>\n",
       "<table border=\"1\" class=\"dataframe\">\n",
       "  <thead>\n",
       "    <tr style=\"text-align: right;\">\n",
       "      <th></th>\n",
       "      <th>Date</th>\n",
       "      <th>Time</th>\n",
       "      <th>Latitude</th>\n",
       "      <th>Longitude</th>\n",
       "      <th>Type</th>\n",
       "      <th>Depth</th>\n",
       "      <th>Depth Error</th>\n",
       "      <th>Depth Seismic Stations</th>\n",
       "      <th>Magnitude</th>\n",
       "      <th>Magnitude Type</th>\n",
       "      <th>Azimuthal Gap</th>\n",
       "      <th>Root Mean Square</th>\n",
       "      <th>ID</th>\n",
       "      <th>Source</th>\n",
       "      <th>Location Source</th>\n",
       "      <th>Magnitude Source</th>\n",
       "      <th>Status</th>\n",
       "    </tr>\n",
       "  </thead>\n",
       "  <tbody>\n",
       "    <tr>\n",
       "      <th>0</th>\n",
       "      <td>1/2/1965</td>\n",
       "      <td>13:44:18</td>\n",
       "      <td>19.246</td>\n",
       "      <td>145.616</td>\n",
       "      <td>Earthquake</td>\n",
       "      <td>131.6</td>\n",
       "      <td>NaN</td>\n",
       "      <td>NaN</td>\n",
       "      <td>6.0</td>\n",
       "      <td>MW</td>\n",
       "      <td>NaN</td>\n",
       "      <td>NaN</td>\n",
       "      <td>ISCGEM860706</td>\n",
       "      <td>ISCGEM</td>\n",
       "      <td>ISCGEM</td>\n",
       "      <td>ISCGEM</td>\n",
       "      <td>Automatic</td>\n",
       "    </tr>\n",
       "    <tr>\n",
       "      <th>1</th>\n",
       "      <td>1/4/1965</td>\n",
       "      <td>11:29:49</td>\n",
       "      <td>1.863</td>\n",
       "      <td>127.352</td>\n",
       "      <td>Earthquake</td>\n",
       "      <td>80.0</td>\n",
       "      <td>NaN</td>\n",
       "      <td>NaN</td>\n",
       "      <td>5.8</td>\n",
       "      <td>MW</td>\n",
       "      <td>NaN</td>\n",
       "      <td>NaN</td>\n",
       "      <td>ISCGEM860737</td>\n",
       "      <td>ISCGEM</td>\n",
       "      <td>ISCGEM</td>\n",
       "      <td>ISCGEM</td>\n",
       "      <td>Automatic</td>\n",
       "    </tr>\n",
       "    <tr>\n",
       "      <th>2</th>\n",
       "      <td>1/5/1965</td>\n",
       "      <td>18:05:58</td>\n",
       "      <td>-20.579</td>\n",
       "      <td>-173.972</td>\n",
       "      <td>Earthquake</td>\n",
       "      <td>20.0</td>\n",
       "      <td>NaN</td>\n",
       "      <td>NaN</td>\n",
       "      <td>6.2</td>\n",
       "      <td>MW</td>\n",
       "      <td>NaN</td>\n",
       "      <td>NaN</td>\n",
       "      <td>ISCGEM860762</td>\n",
       "      <td>ISCGEM</td>\n",
       "      <td>ISCGEM</td>\n",
       "      <td>ISCGEM</td>\n",
       "      <td>Automatic</td>\n",
       "    </tr>\n",
       "    <tr>\n",
       "      <th>3</th>\n",
       "      <td>1/8/1965</td>\n",
       "      <td>18:49:43</td>\n",
       "      <td>-59.076</td>\n",
       "      <td>-23.557</td>\n",
       "      <td>Earthquake</td>\n",
       "      <td>15.0</td>\n",
       "      <td>NaN</td>\n",
       "      <td>NaN</td>\n",
       "      <td>5.8</td>\n",
       "      <td>MW</td>\n",
       "      <td>NaN</td>\n",
       "      <td>NaN</td>\n",
       "      <td>ISCGEM860856</td>\n",
       "      <td>ISCGEM</td>\n",
       "      <td>ISCGEM</td>\n",
       "      <td>ISCGEM</td>\n",
       "      <td>Automatic</td>\n",
       "    </tr>\n",
       "    <tr>\n",
       "      <th>4</th>\n",
       "      <td>1/9/1965</td>\n",
       "      <td>13:32:50</td>\n",
       "      <td>11.938</td>\n",
       "      <td>126.427</td>\n",
       "      <td>Earthquake</td>\n",
       "      <td>15.0</td>\n",
       "      <td>NaN</td>\n",
       "      <td>NaN</td>\n",
       "      <td>5.8</td>\n",
       "      <td>MW</td>\n",
       "      <td>NaN</td>\n",
       "      <td>NaN</td>\n",
       "      <td>ISCGEM860890</td>\n",
       "      <td>ISCGEM</td>\n",
       "      <td>ISCGEM</td>\n",
       "      <td>ISCGEM</td>\n",
       "      <td>Automatic</td>\n",
       "    </tr>\n",
       "    <tr>\n",
       "      <th>5</th>\n",
       "      <td>1/10/1965</td>\n",
       "      <td>13:36:32</td>\n",
       "      <td>-13.405</td>\n",
       "      <td>166.629</td>\n",
       "      <td>Earthquake</td>\n",
       "      <td>35.0</td>\n",
       "      <td>NaN</td>\n",
       "      <td>NaN</td>\n",
       "      <td>6.7</td>\n",
       "      <td>MW</td>\n",
       "      <td>NaN</td>\n",
       "      <td>NaN</td>\n",
       "      <td>ISCGEM860922</td>\n",
       "      <td>ISCGEM</td>\n",
       "      <td>ISCGEM</td>\n",
       "      <td>ISCGEM</td>\n",
       "      <td>Automatic</td>\n",
       "    </tr>\n",
       "    <tr>\n",
       "      <th>6</th>\n",
       "      <td>1/12/1965</td>\n",
       "      <td>13:32:25</td>\n",
       "      <td>27.357</td>\n",
       "      <td>87.867</td>\n",
       "      <td>Earthquake</td>\n",
       "      <td>20.0</td>\n",
       "      <td>NaN</td>\n",
       "      <td>NaN</td>\n",
       "      <td>5.9</td>\n",
       "      <td>MW</td>\n",
       "      <td>NaN</td>\n",
       "      <td>NaN</td>\n",
       "      <td>ISCGEM861007</td>\n",
       "      <td>ISCGEM</td>\n",
       "      <td>ISCGEM</td>\n",
       "      <td>ISCGEM</td>\n",
       "      <td>Automatic</td>\n",
       "    </tr>\n",
       "    <tr>\n",
       "      <th>7</th>\n",
       "      <td>1/15/1965</td>\n",
       "      <td>23:17:42</td>\n",
       "      <td>-13.309</td>\n",
       "      <td>166.212</td>\n",
       "      <td>Earthquake</td>\n",
       "      <td>35.0</td>\n",
       "      <td>NaN</td>\n",
       "      <td>NaN</td>\n",
       "      <td>6.0</td>\n",
       "      <td>MW</td>\n",
       "      <td>NaN</td>\n",
       "      <td>NaN</td>\n",
       "      <td>ISCGEM861111</td>\n",
       "      <td>ISCGEM</td>\n",
       "      <td>ISCGEM</td>\n",
       "      <td>ISCGEM</td>\n",
       "      <td>Automatic</td>\n",
       "    </tr>\n",
       "    <tr>\n",
       "      <th>8</th>\n",
       "      <td>1/16/1965</td>\n",
       "      <td>11:32:37</td>\n",
       "      <td>-56.452</td>\n",
       "      <td>-27.043</td>\n",
       "      <td>Earthquake</td>\n",
       "      <td>95.0</td>\n",
       "      <td>NaN</td>\n",
       "      <td>NaN</td>\n",
       "      <td>6.0</td>\n",
       "      <td>MW</td>\n",
       "      <td>NaN</td>\n",
       "      <td>NaN</td>\n",
       "      <td>ISCGEMSUP861125</td>\n",
       "      <td>ISCGEMSUP</td>\n",
       "      <td>ISCGEM</td>\n",
       "      <td>ISCGEM</td>\n",
       "      <td>Automatic</td>\n",
       "    </tr>\n",
       "    <tr>\n",
       "      <th>9</th>\n",
       "      <td>1/17/1965</td>\n",
       "      <td>10:43:17</td>\n",
       "      <td>-24.563</td>\n",
       "      <td>178.487</td>\n",
       "      <td>Earthquake</td>\n",
       "      <td>565.0</td>\n",
       "      <td>NaN</td>\n",
       "      <td>NaN</td>\n",
       "      <td>5.8</td>\n",
       "      <td>MW</td>\n",
       "      <td>NaN</td>\n",
       "      <td>NaN</td>\n",
       "      <td>ISCGEM861148</td>\n",
       "      <td>ISCGEM</td>\n",
       "      <td>ISCGEM</td>\n",
       "      <td>ISCGEM</td>\n",
       "      <td>Automatic</td>\n",
       "    </tr>\n",
       "  </tbody>\n",
       "</table>\n",
       "</div>"
      ],
      "text/plain": [
       "        Date      Time  Latitude  Longitude        Type  Depth  Depth Error  \\\n",
       "0   1/2/1965  13:44:18    19.246    145.616  Earthquake  131.6          NaN   \n",
       "1   1/4/1965  11:29:49     1.863    127.352  Earthquake   80.0          NaN   \n",
       "2   1/5/1965  18:05:58   -20.579   -173.972  Earthquake   20.0          NaN   \n",
       "3   1/8/1965  18:49:43   -59.076    -23.557  Earthquake   15.0          NaN   \n",
       "4   1/9/1965  13:32:50    11.938    126.427  Earthquake   15.0          NaN   \n",
       "5  1/10/1965  13:36:32   -13.405    166.629  Earthquake   35.0          NaN   \n",
       "6  1/12/1965  13:32:25    27.357     87.867  Earthquake   20.0          NaN   \n",
       "7  1/15/1965  23:17:42   -13.309    166.212  Earthquake   35.0          NaN   \n",
       "8  1/16/1965  11:32:37   -56.452    -27.043  Earthquake   95.0          NaN   \n",
       "9  1/17/1965  10:43:17   -24.563    178.487  Earthquake  565.0          NaN   \n",
       "\n",
       "   Depth Seismic Stations  Magnitude Magnitude Type  Azimuthal Gap  \\\n",
       "0                     NaN        6.0             MW            NaN   \n",
       "1                     NaN        5.8             MW            NaN   \n",
       "2                     NaN        6.2             MW            NaN   \n",
       "3                     NaN        5.8             MW            NaN   \n",
       "4                     NaN        5.8             MW            NaN   \n",
       "5                     NaN        6.7             MW            NaN   \n",
       "6                     NaN        5.9             MW            NaN   \n",
       "7                     NaN        6.0             MW            NaN   \n",
       "8                     NaN        6.0             MW            NaN   \n",
       "9                     NaN        5.8             MW            NaN   \n",
       "\n",
       "   Root Mean Square               ID     Source Location Source  \\\n",
       "0               NaN     ISCGEM860706     ISCGEM          ISCGEM   \n",
       "1               NaN     ISCGEM860737     ISCGEM          ISCGEM   \n",
       "2               NaN     ISCGEM860762     ISCGEM          ISCGEM   \n",
       "3               NaN     ISCGEM860856     ISCGEM          ISCGEM   \n",
       "4               NaN     ISCGEM860890     ISCGEM          ISCGEM   \n",
       "5               NaN     ISCGEM860922     ISCGEM          ISCGEM   \n",
       "6               NaN     ISCGEM861007     ISCGEM          ISCGEM   \n",
       "7               NaN     ISCGEM861111     ISCGEM          ISCGEM   \n",
       "8               NaN  ISCGEMSUP861125  ISCGEMSUP          ISCGEM   \n",
       "9               NaN     ISCGEM861148     ISCGEM          ISCGEM   \n",
       "\n",
       "  Magnitude Source     Status  \n",
       "0           ISCGEM  Automatic  \n",
       "1           ISCGEM  Automatic  \n",
       "2           ISCGEM  Automatic  \n",
       "3           ISCGEM  Automatic  \n",
       "4           ISCGEM  Automatic  \n",
       "5           ISCGEM  Automatic  \n",
       "6           ISCGEM  Automatic  \n",
       "7           ISCGEM  Automatic  \n",
       "8           ISCGEM  Automatic  \n",
       "9           ISCGEM  Automatic  "
      ]
     },
     "execution_count": 8,
     "metadata": {},
     "output_type": "execute_result"
    }
   ],
   "source": [
    "df.head(10)"
   ]
  },
  {
   "cell_type": "code",
   "execution_count": 9,
   "metadata": {},
   "outputs": [
    {
     "data": {
      "text/plain": [
       "Date                          0\n",
       "Time                          0\n",
       "Latitude                      0\n",
       "Longitude                     0\n",
       "Type                          0\n",
       "Depth                         0\n",
       "Depth Error               18951\n",
       "Depth Seismic Stations    16315\n",
       "Magnitude                     0\n",
       "Magnitude Type                3\n",
       "Azimuthal Gap             16113\n",
       "Root Mean Square           6060\n",
       "ID                            0\n",
       "Source                        0\n",
       "Location Source               0\n",
       "Magnitude Source              0\n",
       "Status                        0\n",
       "dtype: int64"
      ]
     },
     "execution_count": 9,
     "metadata": {},
     "output_type": "execute_result"
    }
   ],
   "source": [
    "df.isnull().sum()"
   ]
  },
  {
   "cell_type": "markdown",
   "metadata": {},
   "source": [
    "*We have dropped the colunms having huge number of missing values*"
   ]
  },
  {
   "cell_type": "code",
   "execution_count": 10,
   "metadata": {},
   "outputs": [],
   "source": [
    "df = df.dropna(subset=['Magnitude Type'])"
   ]
  },
  {
   "cell_type": "code",
   "execution_count": 11,
   "metadata": {
    "scrolled": true
   },
   "outputs": [
    {
     "data": {
      "text/plain": [
       "Date                          0\n",
       "Time                          0\n",
       "Latitude                      0\n",
       "Longitude                     0\n",
       "Type                          0\n",
       "Depth                         0\n",
       "Depth Error               18948\n",
       "Depth Seismic Stations    16312\n",
       "Magnitude                     0\n",
       "Magnitude Type                0\n",
       "Azimuthal Gap             16110\n",
       "Root Mean Square           6057\n",
       "ID                            0\n",
       "Source                        0\n",
       "Location Source               0\n",
       "Magnitude Source              0\n",
       "Status                        0\n",
       "dtype: int64"
      ]
     },
     "execution_count": 11,
     "metadata": {},
     "output_type": "execute_result"
    }
   ],
   "source": [
    "df.isnull().sum()"
   ]
  },
  {
   "cell_type": "markdown",
   "metadata": {},
   "source": [
    "*We have dropped the rows corresponding to the 3 missing values in the column Magnitude Type. For the remaining columns with missing values, we will impute the missing values with mean/median*"
   ]
  },
  {
   "cell_type": "markdown",
   "metadata": {},
   "source": [
    "#### Now we will check for duplicates"
   ]
  },
  {
   "cell_type": "code",
   "execution_count": 12,
   "metadata": {},
   "outputs": [
    {
     "data": {
      "text/plain": [
       "0"
      ]
     },
     "execution_count": 12,
     "metadata": {},
     "output_type": "execute_result"
    }
   ],
   "source": [
    "df.duplicated().sum()"
   ]
  },
  {
   "cell_type": "markdown",
   "metadata": {},
   "source": [
    "*There are no duplicate rows*"
   ]
  },
  {
   "cell_type": "markdown",
   "metadata": {},
   "source": [
    "#### Checking for unique values"
   ]
  },
  {
   "cell_type": "code",
   "execution_count": 13,
   "metadata": {},
   "outputs": [
    {
     "data": {
      "text/plain": [
       "Date                      12401\n",
       "Time                      20469\n",
       "Latitude                  20673\n",
       "Longitude                 21471\n",
       "Type                          4\n",
       "Depth                      3483\n",
       "Depth Error                 297\n",
       "Depth Seismic Stations      736\n",
       "Magnitude                    64\n",
       "Magnitude Type               10\n",
       "Azimuthal Gap              1109\n",
       "Root Mean Square            190\n",
       "ID                        23409\n",
       "Source                       12\n",
       "Location Source              47\n",
       "Magnitude Source             23\n",
       "Status                        2\n",
       "dtype: int64"
      ]
     },
     "execution_count": 13,
     "metadata": {},
     "output_type": "execute_result"
    }
   ],
   "source": [
    "df.nunique()"
   ]
  },
  {
   "cell_type": "markdown",
   "metadata": {},
   "source": [
    "*The ID column has all unique values and thus it does not contribute to determine the magnitude of the earthquake. So we can drop the ID column*"
   ]
  },
  {
   "cell_type": "code",
   "execution_count": 14,
   "metadata": {},
   "outputs": [],
   "source": [
    "df = df.drop(['ID'], axis = 1)"
   ]
  },
  {
   "cell_type": "code",
   "execution_count": 15,
   "metadata": {},
   "outputs": [
    {
     "data": {
      "text/html": [
       "<div>\n",
       "<style scoped>\n",
       "    .dataframe tbody tr th:only-of-type {\n",
       "        vertical-align: middle;\n",
       "    }\n",
       "\n",
       "    .dataframe tbody tr th {\n",
       "        vertical-align: top;\n",
       "    }\n",
       "\n",
       "    .dataframe thead th {\n",
       "        text-align: right;\n",
       "    }\n",
       "</style>\n",
       "<table border=\"1\" class=\"dataframe\">\n",
       "  <thead>\n",
       "    <tr style=\"text-align: right;\">\n",
       "      <th></th>\n",
       "      <th>Date</th>\n",
       "      <th>Time</th>\n",
       "      <th>Latitude</th>\n",
       "      <th>Longitude</th>\n",
       "      <th>Type</th>\n",
       "      <th>Depth</th>\n",
       "      <th>Depth Error</th>\n",
       "      <th>Depth Seismic Stations</th>\n",
       "      <th>Magnitude</th>\n",
       "      <th>Magnitude Type</th>\n",
       "      <th>Azimuthal Gap</th>\n",
       "      <th>Root Mean Square</th>\n",
       "      <th>Source</th>\n",
       "      <th>Location Source</th>\n",
       "      <th>Magnitude Source</th>\n",
       "      <th>Status</th>\n",
       "    </tr>\n",
       "  </thead>\n",
       "  <tbody>\n",
       "    <tr>\n",
       "      <th>0</th>\n",
       "      <td>1/2/1965</td>\n",
       "      <td>13:44:18</td>\n",
       "      <td>19.246</td>\n",
       "      <td>145.616</td>\n",
       "      <td>Earthquake</td>\n",
       "      <td>131.6</td>\n",
       "      <td>NaN</td>\n",
       "      <td>NaN</td>\n",
       "      <td>6.0</td>\n",
       "      <td>MW</td>\n",
       "      <td>NaN</td>\n",
       "      <td>NaN</td>\n",
       "      <td>ISCGEM</td>\n",
       "      <td>ISCGEM</td>\n",
       "      <td>ISCGEM</td>\n",
       "      <td>Automatic</td>\n",
       "    </tr>\n",
       "    <tr>\n",
       "      <th>1</th>\n",
       "      <td>1/4/1965</td>\n",
       "      <td>11:29:49</td>\n",
       "      <td>1.863</td>\n",
       "      <td>127.352</td>\n",
       "      <td>Earthquake</td>\n",
       "      <td>80.0</td>\n",
       "      <td>NaN</td>\n",
       "      <td>NaN</td>\n",
       "      <td>5.8</td>\n",
       "      <td>MW</td>\n",
       "      <td>NaN</td>\n",
       "      <td>NaN</td>\n",
       "      <td>ISCGEM</td>\n",
       "      <td>ISCGEM</td>\n",
       "      <td>ISCGEM</td>\n",
       "      <td>Automatic</td>\n",
       "    </tr>\n",
       "    <tr>\n",
       "      <th>2</th>\n",
       "      <td>1/5/1965</td>\n",
       "      <td>18:05:58</td>\n",
       "      <td>-20.579</td>\n",
       "      <td>-173.972</td>\n",
       "      <td>Earthquake</td>\n",
       "      <td>20.0</td>\n",
       "      <td>NaN</td>\n",
       "      <td>NaN</td>\n",
       "      <td>6.2</td>\n",
       "      <td>MW</td>\n",
       "      <td>NaN</td>\n",
       "      <td>NaN</td>\n",
       "      <td>ISCGEM</td>\n",
       "      <td>ISCGEM</td>\n",
       "      <td>ISCGEM</td>\n",
       "      <td>Automatic</td>\n",
       "    </tr>\n",
       "    <tr>\n",
       "      <th>3</th>\n",
       "      <td>1/8/1965</td>\n",
       "      <td>18:49:43</td>\n",
       "      <td>-59.076</td>\n",
       "      <td>-23.557</td>\n",
       "      <td>Earthquake</td>\n",
       "      <td>15.0</td>\n",
       "      <td>NaN</td>\n",
       "      <td>NaN</td>\n",
       "      <td>5.8</td>\n",
       "      <td>MW</td>\n",
       "      <td>NaN</td>\n",
       "      <td>NaN</td>\n",
       "      <td>ISCGEM</td>\n",
       "      <td>ISCGEM</td>\n",
       "      <td>ISCGEM</td>\n",
       "      <td>Automatic</td>\n",
       "    </tr>\n",
       "    <tr>\n",
       "      <th>4</th>\n",
       "      <td>1/9/1965</td>\n",
       "      <td>13:32:50</td>\n",
       "      <td>11.938</td>\n",
       "      <td>126.427</td>\n",
       "      <td>Earthquake</td>\n",
       "      <td>15.0</td>\n",
       "      <td>NaN</td>\n",
       "      <td>NaN</td>\n",
       "      <td>5.8</td>\n",
       "      <td>MW</td>\n",
       "      <td>NaN</td>\n",
       "      <td>NaN</td>\n",
       "      <td>ISCGEM</td>\n",
       "      <td>ISCGEM</td>\n",
       "      <td>ISCGEM</td>\n",
       "      <td>Automatic</td>\n",
       "    </tr>\n",
       "  </tbody>\n",
       "</table>\n",
       "</div>"
      ],
      "text/plain": [
       "       Date      Time  Latitude  Longitude        Type  Depth  Depth Error  \\\n",
       "0  1/2/1965  13:44:18    19.246    145.616  Earthquake  131.6          NaN   \n",
       "1  1/4/1965  11:29:49     1.863    127.352  Earthquake   80.0          NaN   \n",
       "2  1/5/1965  18:05:58   -20.579   -173.972  Earthquake   20.0          NaN   \n",
       "3  1/8/1965  18:49:43   -59.076    -23.557  Earthquake   15.0          NaN   \n",
       "4  1/9/1965  13:32:50    11.938    126.427  Earthquake   15.0          NaN   \n",
       "\n",
       "   Depth Seismic Stations  Magnitude Magnitude Type  Azimuthal Gap  \\\n",
       "0                     NaN        6.0             MW            NaN   \n",
       "1                     NaN        5.8             MW            NaN   \n",
       "2                     NaN        6.2             MW            NaN   \n",
       "3                     NaN        5.8             MW            NaN   \n",
       "4                     NaN        5.8             MW            NaN   \n",
       "\n",
       "   Root Mean Square  Source Location Source Magnitude Source     Status  \n",
       "0               NaN  ISCGEM          ISCGEM           ISCGEM  Automatic  \n",
       "1               NaN  ISCGEM          ISCGEM           ISCGEM  Automatic  \n",
       "2               NaN  ISCGEM          ISCGEM           ISCGEM  Automatic  \n",
       "3               NaN  ISCGEM          ISCGEM           ISCGEM  Automatic  \n",
       "4               NaN  ISCGEM          ISCGEM           ISCGEM  Automatic  "
      ]
     },
     "execution_count": 15,
     "metadata": {},
     "output_type": "execute_result"
    }
   ],
   "source": [
    "df.head(5)"
   ]
  },
  {
   "cell_type": "code",
   "execution_count": 16,
   "metadata": {},
   "outputs": [
    {
     "data": {
      "text/plain": [
       "Date                          0\n",
       "Time                          0\n",
       "Latitude                      0\n",
       "Longitude                     0\n",
       "Type                          0\n",
       "Depth                         0\n",
       "Depth Error               18948\n",
       "Depth Seismic Stations    16312\n",
       "Magnitude                     0\n",
       "Magnitude Type                0\n",
       "Azimuthal Gap             16110\n",
       "Root Mean Square           6057\n",
       "Source                        0\n",
       "Location Source               0\n",
       "Magnitude Source              0\n",
       "Status                        0\n",
       "dtype: int64"
      ]
     },
     "execution_count": 16,
     "metadata": {},
     "output_type": "execute_result"
    }
   ],
   "source": [
    "df.isnull().sum()"
   ]
  },
  {
   "cell_type": "markdown",
   "metadata": {},
   "source": [
    "*The ID column has been dropped*"
   ]
  },
  {
   "cell_type": "code",
   "execution_count": 17,
   "metadata": {},
   "outputs": [
    {
     "data": {
      "text/plain": [
       "['Depth Error', 'Depth Seismic Stations', 'Azimuthal Gap', 'Root Mean Square']"
      ]
     },
     "execution_count": 17,
     "metadata": {},
     "output_type": "execute_result"
    }
   ],
   "source": [
    "NaN_features = [feature for feature in df.columns if ((df[feature].dtypes != 'O') & (df[feature].count() < df.shape[0]))]\n",
    "NaN_features"
   ]
  },
  {
   "cell_type": "code",
   "execution_count": 18,
   "metadata": {},
   "outputs": [
    {
     "name": "stderr",
     "output_type": "stream",
     "text": [
      "C:\\Users\\nipung\\Anaconda3\\lib\\site-packages\\numpy\\lib\\histograms.py:839: RuntimeWarning: invalid value encountered in greater_equal\n",
      "  keep = (tmp_a >= first_edge)\n",
      "C:\\Users\\nipung\\Anaconda3\\lib\\site-packages\\numpy\\lib\\histograms.py:840: RuntimeWarning: invalid value encountered in less_equal\n",
      "  keep &= (tmp_a <= last_edge)\n",
      "C:\\Users\\nipung\\Anaconda3\\lib\\site-packages\\numpy\\lib\\histograms.py:839: RuntimeWarning: invalid value encountered in greater_equal\n",
      "  keep = (tmp_a >= first_edge)\n",
      "C:\\Users\\nipung\\Anaconda3\\lib\\site-packages\\numpy\\lib\\histograms.py:840: RuntimeWarning: invalid value encountered in less_equal\n",
      "  keep &= (tmp_a <= last_edge)\n",
      "C:\\Users\\nipung\\Anaconda3\\lib\\site-packages\\numpy\\lib\\histograms.py:839: RuntimeWarning: invalid value encountered in greater_equal\n",
      "  keep = (tmp_a >= first_edge)\n",
      "C:\\Users\\nipung\\Anaconda3\\lib\\site-packages\\numpy\\lib\\histograms.py:840: RuntimeWarning: invalid value encountered in less_equal\n",
      "  keep &= (tmp_a <= last_edge)\n",
      "C:\\Users\\nipung\\Anaconda3\\lib\\site-packages\\numpy\\lib\\histograms.py:839: RuntimeWarning: invalid value encountered in greater_equal\n",
      "  keep = (tmp_a >= first_edge)\n",
      "C:\\Users\\nipung\\Anaconda3\\lib\\site-packages\\numpy\\lib\\histograms.py:840: RuntimeWarning: invalid value encountered in less_equal\n",
      "  keep &= (tmp_a <= last_edge)\n"
     ]
    },
    {
     "data": {
      "image/png": "[encoded data removed]",
      "text/plain": [
       "<Figure size 864x360 with 2 Axes>"
      ]
     },
     "metadata": {
      "needs_background": "light"
     },
     "output_type": "display_data"
    },
    {
     "data": {
      "image/png": "[encoded data removed]",
      "text/plain": [
       "<Figure size 864x360 with 2 Axes>"
      ]
     },
     "metadata": {
      "needs_background": "light"
     },
     "output_type": "display_data"
    },
    {
     "data": {
      "image/png": "[encoded data removed]",
      "text/plain": [
       "<Figure size 864x360 with 2 Axes>"
      ]
     },
     "metadata": {
      "needs_background": "light"
     },
     "output_type": "display_data"
    },
    {
     "data": {
      "image/png": "[encoded data removed]",
      "text/plain": [
       "<Figure size 864x360 with 2 Axes>"
      ]
     },
     "metadata": {
      "needs_background": "light"
     },
     "output_type": "display_data"
    }
   ],
   "source": [
    "for feature in NaN_features:\n",
    "    plt.figure(figsize=(12,5))\n",
    "    plt.subplot(1,2,1)\n",
    "    sns.distplot(df[feature], color='red')\n",
    "    plt.subplot(1,2,2)\n",
    "    plt.hist(df[feature])"
   ]
  },
  {
   "cell_type": "markdown",
   "metadata": {},
   "source": [
    "*These above plotted features have missing values. We need to impute the missing values in these columns. Since there is skewness in these features like **Depth Error**, **Depth seismic stations** and **Azimuthal gap**, we must use median to impute for these columns. For **Root mean square**, we can use mean to impute*"
   ]
  },
  {
   "cell_type": "code",
   "execution_count": 19,
   "metadata": {},
   "outputs": [
    {
     "data": {
      "text/html": [
       "<div>\n",
       "<style scoped>\n",
       "    .dataframe tbody tr th:only-of-type {\n",
       "        vertical-align: middle;\n",
       "    }\n",
       "\n",
       "    .dataframe tbody tr th {\n",
       "        vertical-align: top;\n",
       "    }\n",
       "\n",
       "    .dataframe thead th {\n",
       "        text-align: right;\n",
       "    }\n",
       "</style>\n",
       "<table border=\"1\" class=\"dataframe\">\n",
       "  <thead>\n",
       "    <tr style=\"text-align: right;\">\n",
       "      <th></th>\n",
       "      <th>Latitude</th>\n",
       "      <th>Longitude</th>\n",
       "      <th>Depth</th>\n",
       "      <th>Depth Error</th>\n",
       "      <th>Depth Seismic Stations</th>\n",
       "      <th>Magnitude</th>\n",
       "      <th>Azimuthal Gap</th>\n",
       "      <th>Root Mean Square</th>\n",
       "    </tr>\n",
       "  </thead>\n",
       "  <tbody>\n",
       "    <tr>\n",
       "      <th>count</th>\n",
       "      <td>23409.000000</td>\n",
       "      <td>23409.000000</td>\n",
       "      <td>23409.000000</td>\n",
       "      <td>4461.000000</td>\n",
       "      <td>7097.000000</td>\n",
       "      <td>23409.000000</td>\n",
       "      <td>7299.000000</td>\n",
       "      <td>17352.000000</td>\n",
       "    </tr>\n",
       "    <tr>\n",
       "      <th>mean</th>\n",
       "      <td>1.674322</td>\n",
       "      <td>39.660642</td>\n",
       "      <td>70.775695</td>\n",
       "      <td>4.993115</td>\n",
       "      <td>275.364098</td>\n",
       "      <td>5.882553</td>\n",
       "      <td>44.163532</td>\n",
       "      <td>1.022784</td>\n",
       "    </tr>\n",
       "    <tr>\n",
       "      <th>std</th>\n",
       "      <td>30.112233</td>\n",
       "      <td>125.506701</td>\n",
       "      <td>122.657829</td>\n",
       "      <td>4.875184</td>\n",
       "      <td>162.141631</td>\n",
       "      <td>0.423087</td>\n",
       "      <td>32.141486</td>\n",
       "      <td>0.188545</td>\n",
       "    </tr>\n",
       "    <tr>\n",
       "      <th>min</th>\n",
       "      <td>-77.080000</td>\n",
       "      <td>-179.997000</td>\n",
       "      <td>-1.100000</td>\n",
       "      <td>0.000000</td>\n",
       "      <td>0.000000</td>\n",
       "      <td>5.500000</td>\n",
       "      <td>0.000000</td>\n",
       "      <td>0.000000</td>\n",
       "    </tr>\n",
       "    <tr>\n",
       "      <th>25%</th>\n",
       "      <td>-18.656000</td>\n",
       "      <td>-76.311300</td>\n",
       "      <td>14.540000</td>\n",
       "      <td>1.800000</td>\n",
       "      <td>146.000000</td>\n",
       "      <td>5.600000</td>\n",
       "      <td>24.100000</td>\n",
       "      <td>0.900000</td>\n",
       "    </tr>\n",
       "    <tr>\n",
       "      <th>50%</th>\n",
       "      <td>-3.570000</td>\n",
       "      <td>103.993000</td>\n",
       "      <td>33.000000</td>\n",
       "      <td>3.500000</td>\n",
       "      <td>255.000000</td>\n",
       "      <td>5.700000</td>\n",
       "      <td>36.000000</td>\n",
       "      <td>1.000000</td>\n",
       "    </tr>\n",
       "    <tr>\n",
       "      <th>75%</th>\n",
       "      <td>26.158000</td>\n",
       "      <td>145.027000</td>\n",
       "      <td>54.000000</td>\n",
       "      <td>6.300000</td>\n",
       "      <td>384.000000</td>\n",
       "      <td>6.000000</td>\n",
       "      <td>54.000000</td>\n",
       "      <td>1.130000</td>\n",
       "    </tr>\n",
       "    <tr>\n",
       "      <th>max</th>\n",
       "      <td>86.005000</td>\n",
       "      <td>179.998000</td>\n",
       "      <td>700.000000</td>\n",
       "      <td>91.295000</td>\n",
       "      <td>934.000000</td>\n",
       "      <td>9.100000</td>\n",
       "      <td>360.000000</td>\n",
       "      <td>3.440000</td>\n",
       "    </tr>\n",
       "  </tbody>\n",
       "</table>\n",
       "</div>"
      ],
      "text/plain": [
       "           Latitude     Longitude         Depth  Depth Error  \\\n",
       "count  23409.000000  23409.000000  23409.000000  4461.000000   \n",
       "mean       1.674322     39.660642     70.775695     4.993115   \n",
       "std       30.112233    125.506701    122.657829     4.875184   \n",
       "min      -77.080000   -179.997000     -1.100000     0.000000   \n",
       "25%      -18.656000    -76.311300     14.540000     1.800000   \n",
       "50%       -3.570000    103.993000     33.000000     3.500000   \n",
       "75%       26.158000    145.027000     54.000000     6.300000   \n",
       "max       86.005000    179.998000    700.000000    91.295000   \n",
       "\n",
       "       Depth Seismic Stations     Magnitude  Azimuthal Gap  Root Mean Square  \n",
       "count             7097.000000  23409.000000    7299.000000      17352.000000  \n",
       "mean               275.364098      5.882553      44.163532          1.022784  \n",
       "std                162.141631      0.423087      32.141486          0.188545  \n",
       "min                  0.000000      5.500000       0.000000          0.000000  \n",
       "25%                146.000000      5.600000      24.100000          0.900000  \n",
       "50%                255.000000      5.700000      36.000000          1.000000  \n",
       "75%                384.000000      6.000000      54.000000          1.130000  \n",
       "max                934.000000      9.100000     360.000000          3.440000  "
      ]
     },
     "execution_count": 19,
     "metadata": {},
     "output_type": "execute_result"
    }
   ],
   "source": [
    "df.describe()"
   ]
  },
  {
   "cell_type": "code",
   "execution_count": 20,
   "metadata": {},
   "outputs": [],
   "source": [
    "df['Depth Error'] = df['Depth Error'].fillna(df['Depth Error'].median())"
   ]
  },
  {
   "cell_type": "code",
   "execution_count": 21,
   "metadata": {},
   "outputs": [],
   "source": [
    "df['Depth Seismic Stations'] = df['Depth Seismic Stations'].fillna(df['Depth Seismic Stations'].median())"
   ]
  },
  {
   "cell_type": "code",
   "execution_count": 22,
   "metadata": {},
   "outputs": [],
   "source": [
    "df['Azimuthal Gap'] = df['Azimuthal Gap'].fillna(df['Azimuthal Gap'].median())"
   ]
  },
  {
   "cell_type": "code",
   "execution_count": 23,
   "metadata": {},
   "outputs": [],
   "source": [
    "df['Root Mean Square'] = df['Root Mean Square'].fillna(df['Root Mean Square'].mean())"
   ]
  },
  {
   "cell_type": "code",
   "execution_count": 24,
   "metadata": {},
   "outputs": [
    {
     "data": {
      "text/html": [
       "<div>\n",
       "<style scoped>\n",
       "    .dataframe tbody tr th:only-of-type {\n",
       "        vertical-align: middle;\n",
       "    }\n",
       "\n",
       "    .dataframe tbody tr th {\n",
       "        vertical-align: top;\n",
       "    }\n",
       "\n",
       "    .dataframe thead th {\n",
       "        text-align: right;\n",
       "    }\n",
       "</style>\n",
       "<table border=\"1\" class=\"dataframe\">\n",
       "  <thead>\n",
       "    <tr style=\"text-align: right;\">\n",
       "      <th></th>\n",
       "      <th>Latitude</th>\n",
       "      <th>Longitude</th>\n",
       "      <th>Depth</th>\n",
       "      <th>Depth Error</th>\n",
       "      <th>Depth Seismic Stations</th>\n",
       "      <th>Magnitude</th>\n",
       "      <th>Azimuthal Gap</th>\n",
       "      <th>Root Mean Square</th>\n",
       "    </tr>\n",
       "  </thead>\n",
       "  <tbody>\n",
       "    <tr>\n",
       "      <th>count</th>\n",
       "      <td>23409.000000</td>\n",
       "      <td>23409.000000</td>\n",
       "      <td>23409.000000</td>\n",
       "      <td>23409.000000</td>\n",
       "      <td>23409.000000</td>\n",
       "      <td>23409.000000</td>\n",
       "      <td>23409.000000</td>\n",
       "      <td>23409.000000</td>\n",
       "    </tr>\n",
       "    <tr>\n",
       "      <th>mean</th>\n",
       "      <td>1.674322</td>\n",
       "      <td>39.660642</td>\n",
       "      <td>70.775695</td>\n",
       "      <td>3.784539</td>\n",
       "      <td>261.173865</td>\n",
       "      <td>5.882553</td>\n",
       "      <td>38.545415</td>\n",
       "      <td>1.022784</td>\n",
       "    </tr>\n",
       "    <tr>\n",
       "      <th>std</th>\n",
       "      <td>30.112233</td>\n",
       "      <td>125.506701</td>\n",
       "      <td>122.657829</td>\n",
       "      <td>2.207348</td>\n",
       "      <td>89.762165</td>\n",
       "      <td>0.423087</td>\n",
       "      <td>18.340849</td>\n",
       "      <td>0.162329</td>\n",
       "    </tr>\n",
       "    <tr>\n",
       "      <th>min</th>\n",
       "      <td>-77.080000</td>\n",
       "      <td>-179.997000</td>\n",
       "      <td>-1.100000</td>\n",
       "      <td>0.000000</td>\n",
       "      <td>0.000000</td>\n",
       "      <td>5.500000</td>\n",
       "      <td>0.000000</td>\n",
       "      <td>0.000000</td>\n",
       "    </tr>\n",
       "    <tr>\n",
       "      <th>25%</th>\n",
       "      <td>-18.656000</td>\n",
       "      <td>-76.311300</td>\n",
       "      <td>14.540000</td>\n",
       "      <td>3.500000</td>\n",
       "      <td>255.000000</td>\n",
       "      <td>5.600000</td>\n",
       "      <td>36.000000</td>\n",
       "      <td>0.940000</td>\n",
       "    </tr>\n",
       "    <tr>\n",
       "      <th>50%</th>\n",
       "      <td>-3.570000</td>\n",
       "      <td>103.993000</td>\n",
       "      <td>33.000000</td>\n",
       "      <td>3.500000</td>\n",
       "      <td>255.000000</td>\n",
       "      <td>5.700000</td>\n",
       "      <td>36.000000</td>\n",
       "      <td>1.022784</td>\n",
       "    </tr>\n",
       "    <tr>\n",
       "      <th>75%</th>\n",
       "      <td>26.158000</td>\n",
       "      <td>145.027000</td>\n",
       "      <td>54.000000</td>\n",
       "      <td>3.500000</td>\n",
       "      <td>255.000000</td>\n",
       "      <td>6.000000</td>\n",
       "      <td>36.000000</td>\n",
       "      <td>1.100000</td>\n",
       "    </tr>\n",
       "    <tr>\n",
       "      <th>max</th>\n",
       "      <td>86.005000</td>\n",
       "      <td>179.998000</td>\n",
       "      <td>700.000000</td>\n",
       "      <td>91.295000</td>\n",
       "      <td>934.000000</td>\n",
       "      <td>9.100000</td>\n",
       "      <td>360.000000</td>\n",
       "      <td>3.440000</td>\n",
       "    </tr>\n",
       "  </tbody>\n",
       "</table>\n",
       "</div>"
      ],
      "text/plain": [
       "           Latitude     Longitude         Depth   Depth Error  \\\n",
       "count  23409.000000  23409.000000  23409.000000  23409.000000   \n",
       "mean       1.674322     39.660642     70.775695      3.784539   \n",
       "std       30.112233    125.506701    122.657829      2.207348   \n",
       "min      -77.080000   -179.997000     -1.100000      0.000000   \n",
       "25%      -18.656000    -76.311300     14.540000      3.500000   \n",
       "50%       -3.570000    103.993000     33.000000      3.500000   \n",
       "75%       26.158000    145.027000     54.000000      3.500000   \n",
       "max       86.005000    179.998000    700.000000     91.295000   \n",
       "\n",
       "       Depth Seismic Stations     Magnitude  Azimuthal Gap  Root Mean Square  \n",
       "count            23409.000000  23409.000000   23409.000000      23409.000000  \n",
       "mean               261.173865      5.882553      38.545415          1.022784  \n",
       "std                 89.762165      0.423087      18.340849          0.162329  \n",
       "min                  0.000000      5.500000       0.000000          0.000000  \n",
       "25%                255.000000      5.600000      36.000000          0.940000  \n",
       "50%                255.000000      5.700000      36.000000          1.022784  \n",
       "75%                255.000000      6.000000      36.000000          1.100000  \n",
       "max                934.000000      9.100000     360.000000          3.440000  "
      ]
     },
     "execution_count": 24,
     "metadata": {},
     "output_type": "execute_result"
    }
   ],
   "source": [
    "df.describe()"
   ]
  },
  {
   "cell_type": "code",
   "execution_count": 25,
   "metadata": {},
   "outputs": [
    {
     "name": "stderr",
     "output_type": "stream",
     "text": [
      "C:\\Users\\nipung\\Anaconda3\\lib\\site-packages\\seaborn\\distributions.py:369: UserWarning: Default bandwidth for data is 0; skipping density estimation.\n",
      "  warnings.warn(msg, UserWarning)\n",
      "C:\\Users\\nipung\\Anaconda3\\lib\\site-packages\\seaborn\\distributions.py:369: UserWarning: Default bandwidth for data is 0; skipping density estimation.\n",
      "  warnings.warn(msg, UserWarning)\n",
      "C:\\Users\\nipung\\Anaconda3\\lib\\site-packages\\seaborn\\distributions.py:369: UserWarning: Default bandwidth for data is 0; skipping density estimation.\n",
      "  warnings.warn(msg, UserWarning)\n"
     ]
    },
    {
     "data": {
      "image/png": "[encoded data removed]",
      "text/plain": [
       "<Figure size 864x360 with 2 Axes>"
      ]
     },
     "metadata": {
      "needs_background": "light"
     },
     "output_type": "display_data"
    },
    {
     "data": {
      "image/png": "[encoded data removed]",
      "text/plain": [
       "<Figure size 864x360 with 2 Axes>"
      ]
     },
     "metadata": {
      "needs_background": "light"
     },
     "output_type": "display_data"
    },
    {
     "data": {
      "image/png": "[encoded data removed]",
      "text/plain": [
       "<Figure size 864x360 with 2 Axes>"
      ]
     },
     "metadata": {
      "needs_background": "light"
     },
     "output_type": "display_data"
    },
    {
     "data": {
      "image/png": "[encoded data removed]",
      "text/plain": [
       "<Figure size 864x360 with 2 Axes>"
      ]
     },
     "metadata": {
      "needs_background": "light"
     },
     "output_type": "display_data"
    }
   ],
   "source": [
    "for feature in NaN_features:\n",
    "    plt.figure(figsize=(12,5))\n",
    "    plt.subplot(1,2,1)\n",
    "    sns.distplot(df[feature], color='red')\n",
    "    plt.subplot(1,2,2)\n",
    "    plt.hist(df[feature])"
   ]
  },
  {
   "cell_type": "code",
   "execution_count": 26,
   "metadata": {},
   "outputs": [
    {
     "data": {
      "text/plain": [
       "Date                      0\n",
       "Time                      0\n",
       "Latitude                  0\n",
       "Longitude                 0\n",
       "Type                      0\n",
       "Depth                     0\n",
       "Depth Error               0\n",
       "Depth Seismic Stations    0\n",
       "Magnitude                 0\n",
       "Magnitude Type            0\n",
       "Azimuthal Gap             0\n",
       "Root Mean Square          0\n",
       "Source                    0\n",
       "Location Source           0\n",
       "Magnitude Source          0\n",
       "Status                    0\n",
       "dtype: int64"
      ]
     },
     "execution_count": 26,
     "metadata": {},
     "output_type": "execute_result"
    }
   ],
   "source": [
    "df.isnull().sum()"
   ]
  },
  {
   "cell_type": "code",
   "execution_count": 28,
   "metadata": {},
   "outputs": [
    {
     "name": "stdout",
     "output_type": "stream",
     "text": [
      "<class 'pandas.core.frame.DataFrame'>\n",
      "Int64Index: 23409 entries, 0 to 23411\n",
      "Data columns (total 16 columns):\n",
      " #   Column                  Non-Null Count  Dtype  \n",
      "---  ------                  --------------  -----  \n",
      " 0   Date                    23409 non-null  object \n",
      " 1   Time                    23409 non-null  object \n",
      " 2   Latitude                23409 non-null  float64\n",
      " 3   Longitude               23409 non-null  float64\n",
      " 4   Type                    23409 non-null  object \n",
      " 5   Depth                   23409 non-null  float64\n",
      " 6   Depth Error             23409 non-null  float64\n",
      " 7   Depth Seismic Stations  23409 non-null  float64\n",
      " 8   Magnitude               23409 non-null  float64\n",
      " 9   Magnitude Type          23409 non-null  object \n",
      " 10  Azimuthal Gap           23409 non-null  float64\n",
      " 11  Root Mean Square        23409 non-null  float64\n",
      " 12  Source                  23409 non-null  object \n",
      " 13  Location Source         23409 non-null  object \n",
      " 14  Magnitude Source        23409 non-null  object \n",
      " 15  Status                  23409 non-null  object \n",
      "dtypes: float64(8), object(8)\n",
      "memory usage: 3.0+ MB\n"
     ]
    }
   ],
   "source": [
    "df.info()"
   ]
  },
  {
   "cell_type": "markdown",
   "metadata": {},
   "source": [
    "*Now there are no missing values in the dataset*"
   ]
  },
  {
   "cell_type": "markdown",
   "metadata": {},
   "source": [
    "#### Plotting a heatmap to see the correlation between the numerical features"
   ]
  },
  {
   "cell_type": "code",
   "execution_count": null,
   "metadata": {},
   "outputs": [],
   "source": [
    "plt.figure(figsize=(10,7))\n",
    "sns.heatmap(df.corr(), annot=True)"
   ]
  },
  {
   "cell_type": "markdown",
   "metadata": {},
   "source": [
    "*We can see that the features are weakly correlated to one another.* The pearson correlation of all the featurs is between -0.31 to 0.25*"
   ]
  },
  {
   "cell_type": "code",
   "execution_count": null,
   "metadata": {},
   "outputs": [],
   "source": [
    "numerical_features = df.select_dtypes(np.number).columns\n",
    "numerical_features"
   ]
  },
  {
   "cell_type": "markdown",
   "metadata": {},
   "source": [
    "#### Plotting boxplots and distplots to see the outliers and skewness for the numerical features"
   ]
  },
  {
   "cell_type": "code",
   "execution_count": null,
   "metadata": {},
   "outputs": [],
   "source": [
    "\n",
    "def create_boxplots_distplots(dataset):\n",
    "    for feature in numerical_features:\n",
    "        plt.figure(figsize=(10,7))\n",
    "        plt.subplot(2,2,1)\n",
    "        dataset.boxplot(column=feature)\n",
    "        plt.ylabel(feature)\n",
    "        plt.title(feature)\n",
    "        plt.subplot(2,2,2)\n",
    "        sns.boxplot(y=dataset[feature])\n",
    "        plt.subplot(2,2,3)\n",
    "        plt.hist(dataset[feature])\n",
    "        plt.xlabel(feature)\n",
    "        plt.subplot(2,2,4)\n",
    "        sns.distplot(dataset[feature].dropna())\n",
    "        plt.show()\n",
    "    \n",
    "create_boxplots_distplots(df)"
   ]
  },
  {
   "cell_type": "markdown",
   "metadata": {},
   "source": [
    "#### Removing outliers"
   ]
  },
  {
   "cell_type": "code",
   "execution_count": null,
   "metadata": {},
   "outputs": [],
   "source": [
    "def remove_outliers(dataset, list_of_features):\n",
    "    for feature in list_of_features:\n",
    "        outliers = []\n",
    "        threshold = 3\n",
    "        mean = np.mean(dataset[feature])\n",
    "        std = np.std(dataset[feature])\n",
    "        \n",
    "        for i in dataset[feature]:\n",
    "            z_score = (i - mean)/std\n",
    "            if np.abs(z_score) > threshold:\n",
    "                outliers.append(i)\n",
    "        print(outliers)\n",
    "        print()\n",
    "        for j in outliers:\n",
    "            indexNames = dataset[dataset[feature] == j].index\n",
    "            dataset.drop(indexNames , inplace=True)\n",
    "        outliers.clear()\n",
    "\n",
    "\n",
    "remove_outliers(df,numerical_features)"
   ]
  },
  {
   "cell_type": "code",
   "execution_count": null,
   "metadata": {},
   "outputs": [],
   "source": [
    "create_boxplots_distplots(df)"
   ]
  },
  {
   "cell_type": "code",
   "execution_count": null,
   "metadata": {},
   "outputs": [],
   "source": [
    "df.describe()"
   ]
  },
  {
   "cell_type": "markdown",
   "metadata": {},
   "source": [
    "*The outliers have been removed*"
   ]
  },
  {
   "cell_type": "markdown",
   "metadata": {},
   "source": [
    "#### Now we will check for multivariate outliers by plotting relplot"
   ]
  },
  {
   "cell_type": "code",
   "execution_count": null,
   "metadata": {},
   "outputs": [],
   "source": [
    "'''\n",
    "def create_relplot(dataset, list_of_features):\n",
    "    for feature in list_of_features:\n",
    "        for bivariate_feature in list_of_features:\n",
    "            if bivariate_feature != feature:\n",
    "                plt.figure(figsize=(10,10))\n",
    "                sns.relplot(x=feature, y=bivariate_feature, data=dataset, hue='Magnitude')\n",
    "                plt.show()\n",
    "\n",
    "\n",
    "create_relplot(df, numerical_features)\n",
    "'''"
   ]
  },
  {
   "cell_type": "code",
   "execution_count": null,
   "metadata": {},
   "outputs": [],
   "source": [
    "df = df.drop(df[(df['Depth'] > 225)].index)"
   ]
  },
  {
   "cell_type": "code",
   "execution_count": null,
   "metadata": {},
   "outputs": [],
   "source": [
    "df = df.drop(df[(df['Latitude'] < -50)].index)"
   ]
  },
  {
   "cell_type": "code",
   "execution_count": null,
   "metadata": {},
   "outputs": [],
   "source": [
    "df = df.drop(df[(df['Depth Error'] < 1)].index)"
   ]
  },
  {
   "cell_type": "code",
   "execution_count": null,
   "metadata": {},
   "outputs": [],
   "source": [
    "df = df.drop(df[(df['Latitude'] > 60)].index)"
   ]
  },
  {
   "cell_type": "code",
   "execution_count": null,
   "metadata": {},
   "outputs": [],
   "source": [
    "df = df.drop(df[(df['Depth'] > 200) & (df['Depth Error'] > 4)].index)"
   ]
  },
  {
   "cell_type": "code",
   "execution_count": null,
   "metadata": {},
   "outputs": [],
   "source": [
    "df = df.drop(df[(df['Depth'] > 200) & (df['Depth Seismic Stations'] >300)].index)"
   ]
  },
  {
   "cell_type": "code",
   "execution_count": null,
   "metadata": {},
   "outputs": [],
   "source": [
    "df = df.drop(df[(df['Depth'] > 200) & (df['Depth Seismic Stations'] <200)].index)"
   ]
  },
  {
   "cell_type": "code",
   "execution_count": null,
   "metadata": {},
   "outputs": [],
   "source": [
    "df = df.drop(df[(df['Depth'] > 150) & (df['Azimuthal Gap'] > 40)].index)"
   ]
  },
  {
   "cell_type": "code",
   "execution_count": null,
   "metadata": {},
   "outputs": [],
   "source": [
    "df = df.drop(df[(df['Depth'] > 200) & (df['Azimuthal Gap'] < 32)].index)"
   ]
  },
  {
   "cell_type": "code",
   "execution_count": null,
   "metadata": {},
   "outputs": [],
   "source": [
    "df = df.drop(df[(df['Depth'] > 200) & (df['Root Mean Square'] > 1.1)].index)"
   ]
  },
  {
   "cell_type": "code",
   "execution_count": null,
   "metadata": {},
   "outputs": [],
   "source": [
    "df = df.drop(df[(df['Depth'] > 200) & (df['Root Mean Square'] < 0.9)].index)"
   ]
  },
  {
   "cell_type": "code",
   "execution_count": null,
   "metadata": {},
   "outputs": [],
   "source": [
    "df = df.drop(df[(df['Depth'] > 200) & (df['Latitude'] < -10)].index)"
   ]
  },
  {
   "cell_type": "markdown",
   "metadata": {},
   "source": [
    "*We have removed the multivariate outliers from the dataset*"
   ]
  },
  {
   "cell_type": "code",
   "execution_count": null,
   "metadata": {},
   "outputs": [],
   "source": [
    "df.describe()"
   ]
  },
  {
   "cell_type": "code",
   "execution_count": null,
   "metadata": {},
   "outputs": [],
   "source": [
    "create_boxplots_distplots(df)"
   ]
  },
  {
   "cell_type": "markdown",
   "metadata": {},
   "source": [
    "*Features including **longitude**, **Depth** and **Magnitude** have skewness*"
   ]
  },
  {
   "cell_type": "code",
   "execution_count": null,
   "metadata": {},
   "outputs": [],
   "source": [
    "df.head(10)"
   ]
  },
  {
   "cell_type": "code",
   "execution_count": null,
   "metadata": {},
   "outputs": [],
   "source": [
    "df.describe()"
   ]
  },
  {
   "cell_type": "markdown",
   "metadata": {},
   "source": [
    "#### Applying square root transformation to treat skewness"
   ]
  },
  {
   "cell_type": "code",
   "execution_count": null,
   "metadata": {},
   "outputs": [],
   "source": [
    "from scipy.stats import skew"
   ]
  },
  {
   "cell_type": "code",
   "execution_count": null,
   "metadata": {},
   "outputs": [],
   "source": [
    "for feature in numerical_features:\n",
    "    print(feature, \" \", skew(df[feature]))"
   ]
  },
  {
   "cell_type": "code",
   "execution_count": null,
   "metadata": {},
   "outputs": [],
   "source": [
    "skewed_features = ['Depth', 'Depth Error', 'Azimuthal Gap']\n",
    "for feature in skewed_features:\n",
    "    df[feature] = np.sqrt(df[feature])"
   ]
  },
  {
   "cell_type": "code",
   "execution_count": null,
   "metadata": {},
   "outputs": [],
   "source": [
    "for feature in numerical_features:\n",
    "    print(feature, \" \", skew(df[feature]))"
   ]
  },
  {
   "cell_type": "markdown",
   "metadata": {},
   "source": [
    "*Skewness has been handled*"
   ]
  },
  {
   "cell_type": "code",
   "execution_count": null,
   "metadata": {},
   "outputs": [],
   "source": [
    "df.head(10)"
   ]
  },
  {
   "cell_type": "markdown",
   "metadata": {},
   "source": [
    "#### Analysing categorical features"
   ]
  },
  {
   "cell_type": "code",
   "execution_count": null,
   "metadata": {},
   "outputs": [],
   "source": [
    "categorical_features = df.select_dtypes(np.object).columns\n",
    "categorical_features"
   ]
  },
  {
   "cell_type": "code",
   "execution_count": null,
   "metadata": {},
   "outputs": [],
   "source": [
    "for feature in categorical_features:\n",
    "    if feature == 'Date':\n",
    "        pass\n",
    "    elif feature == 'Time':\n",
    "        pass\n",
    "    else:\n",
    "        print(\"Feature : \", feature)\n",
    "        print(df[feature].value_counts())\n",
    "        print()"
   ]
  },
  {
   "cell_type": "markdown",
   "metadata": {},
   "source": [
    "*We can consider the Nuclear explosion and Explosion as 1 single category*"
   ]
  },
  {
   "cell_type": "code",
   "execution_count": null,
   "metadata": {},
   "outputs": [],
   "source": [
    "df[\"Type\"].replace({\"Nuclear Explosion\": \"Explosion\"}, inplace=True)"
   ]
  },
  {
   "cell_type": "markdown",
   "metadata": {},
   "source": [
    "*For the above features, we will remove the categories having counts less than 4*"
   ]
  },
  {
   "cell_type": "code",
   "execution_count": null,
   "metadata": {},
   "outputs": [],
   "source": [
    "for feature in categorical_features:\n",
    "    if feature == 'Date':\n",
    "        pass\n",
    "    elif feature == 'Time':\n",
    "        pass\n",
    "    elif feature == 'Location Source':\n",
    "        pass\n",
    "    else:\n",
    "        x = df[feature].value_counts().keys().tolist()\n",
    "        y = df[feature].value_counts().tolist()\n",
    "        for i in range(len(x)):\n",
    "            if y[i] < 4:\n",
    "                index_names = df[df[feature] == x[i]].index\n",
    "                df.drop(index_names, inplace = True)\n",
    "        x = None\n",
    "        y = None"
   ]
  },
  {
   "cell_type": "code",
   "execution_count": null,
   "metadata": {},
   "outputs": [],
   "source": [
    "for feature in categorical_features:\n",
    "    if feature == 'Date':\n",
    "        pass\n",
    "    elif feature == 'Time':\n",
    "        pass\n",
    "    else:\n",
    "        print(\"Feature : \", feature)\n",
    "        print(df[feature].value_counts())\n",
    "        print()"
   ]
  },
  {
   "cell_type": "markdown",
   "metadata": {},
   "source": [
    "*We can group the categories of **Location Source** column for which the count is less than 29*"
   ]
  },
  {
   "cell_type": "code",
   "execution_count": null,
   "metadata": {},
   "outputs": [],
   "source": [
    "x = df['Location Source'].value_counts().keys().tolist()\n",
    "y = df['Location Source'].value_counts().tolist()\n",
    "for i in range(len(x)):\n",
    "    if y[i] < 29:\n",
    "        df['Location Source'].replace({x[i]: \"Other\"}, inplace=True)"
   ]
  },
  {
   "cell_type": "code",
   "execution_count": null,
   "metadata": {},
   "outputs": [],
   "source": [
    "df['Location Source'].value_counts()"
   ]
  },
  {
   "cell_type": "code",
   "execution_count": null,
   "metadata": {},
   "outputs": [],
   "source": [
    "for feature in categorical_features:\n",
    "    if feature == 'Date':\n",
    "        pass\n",
    "    elif feature == 'Time':\n",
    "        pass\n",
    "    else:\n",
    "        plt.figure(figsize=(10,5))\n",
    "        plt.subplot(1,2,1)\n",
    "        sns.countplot(feature, data=df)\n",
    "        plt.title(feature)\n",
    "        plt.subplot(1,2,2)\n",
    "        plt.pie(df[feature].value_counts(), labels=df[feature].unique(), autopct='%0.2f%%')\n",
    "        plt.show()\n",
    "        sns.catplot(x=feature, y='Magnitude', data=df)\n",
    "        plt.show()        "
   ]
  },
  {
   "cell_type": "markdown",
   "metadata": {},
   "source": [
    "*From the plots, we can observe that most of the earthquakes are genuine earthquakes whereas very few earthquakes are due to explosions. 99.24% of the earthquakes are genuine earthquakes whereas 0.76% earthquakes are due to explosions. the magnitude of earthquake ranges from 2.35 to approx 2.70 for genuine earthquakes whereas the magnitude varies from 2.35 to 2.55 in the case of explosions*"
   ]
  },
  {
   "cell_type": "markdown",
   "metadata": {},
   "source": [
    "*Magnitude Type glossary :*\n",
    "\n",
    "     MWC : centroid\n",
    "     MWW : (Moment W-phase)(generic notation Mw)\n",
    "     MB : short-period body wave\n",
    "     MWB : body wave\n",
    "     MS : 20 sec surface wave\n",
    "     MWW : Moment W-phase)(generic notation Mw\n",
    "     MWR : regional\n",
    "     ML : local"
   ]
  },
  {
   "cell_type": "markdown",
   "metadata": {},
   "source": [
    "#### Working with Date and Time values"
   ]
  },
  {
   "cell_type": "code",
   "execution_count": null,
   "metadata": {},
   "outputs": [],
   "source": [
    "df.info()"
   ]
  },
  {
   "cell_type": "markdown",
   "metadata": {},
   "source": [
    "*Date and Time columns are categorical features. We need to convert Date into datetime object*"
   ]
  },
  {
   "cell_type": "code",
   "execution_count": null,
   "metadata": {},
   "outputs": [],
   "source": [
    "df['Day'] = pd.to_datetime(df.Date, format=\"%m/%d/%Y\").dt.day"
   ]
  },
  {
   "cell_type": "code",
   "execution_count": null,
   "metadata": {},
   "outputs": [],
   "source": [
    "df['Month'] = pd.to_datetime(df.Date, format=\"%m/%d/%Y\").dt.month"
   ]
  },
  {
   "cell_type": "code",
   "execution_count": null,
   "metadata": {},
   "outputs": [],
   "source": [
    "df['Year'] = pd.to_datetime(df.Date, format=\"%m/%d/%Y\").dt.year"
   ]
  },
  {
   "cell_type": "code",
   "execution_count": null,
   "metadata": {},
   "outputs": [],
   "source": [
    "df['Year'].value_counts()"
   ]
  },
  {
   "cell_type": "markdown",
   "metadata": {},
   "source": [
    "*We can drop the Date column*"
   ]
  },
  {
   "cell_type": "code",
   "execution_count": null,
   "metadata": {},
   "outputs": [],
   "source": [
    "df.drop(['Date'], axis=1, inplace=True)"
   ]
  },
  {
   "cell_type": "code",
   "execution_count": null,
   "metadata": {},
   "outputs": [],
   "source": [
    "df['Hours'] = pd.to_datetime(df['Time']).dt.hour"
   ]
  },
  {
   "cell_type": "code",
   "execution_count": null,
   "metadata": {},
   "outputs": [],
   "source": [
    "df['Minutes'] = pd.to_datetime(df['Time']).dt.minute"
   ]
  },
  {
   "cell_type": "code",
   "execution_count": null,
   "metadata": {},
   "outputs": [],
   "source": [
    "df['Seconds'] = pd.to_datetime(df['Time']).dt.second"
   ]
  },
  {
   "cell_type": "markdown",
   "metadata": {},
   "source": [
    "*We can drop the Date column*"
   ]
  },
  {
   "cell_type": "code",
   "execution_count": null,
   "metadata": {},
   "outputs": [],
   "source": [
    "df.drop(['Time'], axis=1, inplace=True)"
   ]
  },
  {
   "cell_type": "code",
   "execution_count": null,
   "metadata": {},
   "outputs": [],
   "source": [
    "df.head(5)"
   ]
  },
  {
   "cell_type": "code",
   "execution_count": null,
   "metadata": {},
   "outputs": [],
   "source": [
    "sns.jointplot(y=df['Magnitude'], x=df['Year'], data=df)"
   ]
  },
  {
   "cell_type": "code",
   "execution_count": null,
   "metadata": {},
   "outputs": [],
   "source": [
    "plt.figure(figsize=(15,7))\n",
    "sns.heatmap(df.corr(), annot=True, cmap='RdYlGn')"
   ]
  },
  {
   "cell_type": "code",
   "execution_count": null,
   "metadata": {},
   "outputs": [],
   "source": [
    "df.info()"
   ]
  },
  {
   "cell_type": "code",
   "execution_count": null,
   "metadata": {},
   "outputs": [],
   "source": [
    "df.describe()"
   ]
  },
  {
   "cell_type": "code",
   "execution_count": null,
   "metadata": {},
   "outputs": [],
   "source": [
    "df.to_csv('file6.csv')"
   ]
  },
  {
   "cell_type": "code",
   "execution_count": 29,
   "metadata": {},
   "outputs": [],
   "source": [
    "df = pd.read_csv('file6.csv', index_col='Unnamed: 0')"
   ]
  },
  {
   "cell_type": "markdown",
   "metadata": {},
   "source": [
    "#### Encoding of categorical variables"
   ]
  },
  {
   "cell_type": "code",
   "execution_count": 30,
   "metadata": {},
   "outputs": [],
   "source": [
    "df = pd.get_dummies(df, drop_first=True)"
   ]
  },
  {
   "cell_type": "code",
   "execution_count": 31,
   "metadata": {},
   "outputs": [],
   "source": [
    "pd.set_option('display.max_columns', None)"
   ]
  },
  {
   "cell_type": "code",
   "execution_count": 32,
   "metadata": {},
   "outputs": [
    {
     "data": {
      "text/html": [
       "<div>\n",
       "<style scoped>\n",
       "    .dataframe tbody tr th:only-of-type {\n",
       "        vertical-align: middle;\n",
       "    }\n",
       "\n",
       "    .dataframe tbody tr th {\n",
       "        vertical-align: top;\n",
       "    }\n",
       "\n",
       "    .dataframe thead th {\n",
       "        text-align: right;\n",
       "    }\n",
       "</style>\n",
       "<table border=\"1\" class=\"dataframe\">\n",
       "  <thead>\n",
       "    <tr style=\"text-align: right;\">\n",
       "      <th></th>\n",
       "      <th>Latitude</th>\n",
       "      <th>Longitude</th>\n",
       "      <th>Depth</th>\n",
       "      <th>Depth Error</th>\n",
       "      <th>Depth Seismic Stations</th>\n",
       "      <th>Magnitude</th>\n",
       "      <th>Azimuthal Gap</th>\n",
       "      <th>Root Mean Square</th>\n",
       "      <th>Day</th>\n",
       "      <th>Month</th>\n",
       "      <th>Year</th>\n",
       "      <th>Hours</th>\n",
       "      <th>Minutes</th>\n",
       "      <th>Seconds</th>\n",
       "      <th>Type_Explosion</th>\n",
       "      <th>Magnitude Type_MS</th>\n",
       "      <th>Magnitude Type_MW</th>\n",
       "      <th>Magnitude Type_MWB</th>\n",
       "      <th>Magnitude Type_MWC</th>\n",
       "      <th>Magnitude Type_MWR</th>\n",
       "      <th>Magnitude Type_MWW</th>\n",
       "      <th>Source_ISCGEM</th>\n",
       "      <th>Source_ISCGEMSUP</th>\n",
       "      <th>Source_US</th>\n",
       "      <th>Location Source_GUC</th>\n",
       "      <th>Location Source_ISCGEM</th>\n",
       "      <th>Location Source_Other</th>\n",
       "      <th>Location Source_US</th>\n",
       "      <th>Magnitude Source_HRV</th>\n",
       "      <th>Magnitude Source_ISCGEM</th>\n",
       "      <th>Magnitude Source_NC</th>\n",
       "      <th>Magnitude Source_PAR</th>\n",
       "      <th>Magnitude Source_US</th>\n",
       "      <th>Status_Reviewed</th>\n",
       "    </tr>\n",
       "  </thead>\n",
       "  <tbody>\n",
       "    <tr>\n",
       "      <th>0</th>\n",
       "      <td>19.246</td>\n",
       "      <td>145.616</td>\n",
       "      <td>3.386990</td>\n",
       "      <td>1.367782</td>\n",
       "      <td>255.0</td>\n",
       "      <td>6.0</td>\n",
       "      <td>2.44949</td>\n",
       "      <td>1.022784</td>\n",
       "      <td>2</td>\n",
       "      <td>1</td>\n",
       "      <td>1965</td>\n",
       "      <td>13</td>\n",
       "      <td>44</td>\n",
       "      <td>18</td>\n",
       "      <td>0</td>\n",
       "      <td>0</td>\n",
       "      <td>1</td>\n",
       "      <td>0</td>\n",
       "      <td>0</td>\n",
       "      <td>0</td>\n",
       "      <td>0</td>\n",
       "      <td>1</td>\n",
       "      <td>0</td>\n",
       "      <td>0</td>\n",
       "      <td>0</td>\n",
       "      <td>1</td>\n",
       "      <td>0</td>\n",
       "      <td>0</td>\n",
       "      <td>0</td>\n",
       "      <td>1</td>\n",
       "      <td>0</td>\n",
       "      <td>0</td>\n",
       "      <td>0</td>\n",
       "      <td>0</td>\n",
       "    </tr>\n",
       "    <tr>\n",
       "      <th>1</th>\n",
       "      <td>1.863</td>\n",
       "      <td>127.352</td>\n",
       "      <td>2.990698</td>\n",
       "      <td>1.367782</td>\n",
       "      <td>255.0</td>\n",
       "      <td>5.8</td>\n",
       "      <td>2.44949</td>\n",
       "      <td>1.022784</td>\n",
       "      <td>4</td>\n",
       "      <td>1</td>\n",
       "      <td>1965</td>\n",
       "      <td>11</td>\n",
       "      <td>29</td>\n",
       "      <td>49</td>\n",
       "      <td>0</td>\n",
       "      <td>0</td>\n",
       "      <td>1</td>\n",
       "      <td>0</td>\n",
       "      <td>0</td>\n",
       "      <td>0</td>\n",
       "      <td>0</td>\n",
       "      <td>1</td>\n",
       "      <td>0</td>\n",
       "      <td>0</td>\n",
       "      <td>0</td>\n",
       "      <td>1</td>\n",
       "      <td>0</td>\n",
       "      <td>0</td>\n",
       "      <td>0</td>\n",
       "      <td>1</td>\n",
       "      <td>0</td>\n",
       "      <td>0</td>\n",
       "      <td>0</td>\n",
       "      <td>0</td>\n",
       "    </tr>\n",
       "    <tr>\n",
       "      <th>2</th>\n",
       "      <td>-20.579</td>\n",
       "      <td>-173.972</td>\n",
       "      <td>2.114743</td>\n",
       "      <td>1.367782</td>\n",
       "      <td>255.0</td>\n",
       "      <td>6.2</td>\n",
       "      <td>2.44949</td>\n",
       "      <td>1.022784</td>\n",
       "      <td>5</td>\n",
       "      <td>1</td>\n",
       "      <td>1965</td>\n",
       "      <td>18</td>\n",
       "      <td>5</td>\n",
       "      <td>58</td>\n",
       "      <td>0</td>\n",
       "      <td>0</td>\n",
       "      <td>1</td>\n",
       "      <td>0</td>\n",
       "      <td>0</td>\n",
       "      <td>0</td>\n",
       "      <td>0</td>\n",
       "      <td>1</td>\n",
       "      <td>0</td>\n",
       "      <td>0</td>\n",
       "      <td>0</td>\n",
       "      <td>1</td>\n",
       "      <td>0</td>\n",
       "      <td>0</td>\n",
       "      <td>0</td>\n",
       "      <td>1</td>\n",
       "      <td>0</td>\n",
       "      <td>0</td>\n",
       "      <td>0</td>\n",
       "      <td>0</td>\n",
       "    </tr>\n",
       "    <tr>\n",
       "      <th>4</th>\n",
       "      <td>11.938</td>\n",
       "      <td>126.427</td>\n",
       "      <td>1.967990</td>\n",
       "      <td>1.367782</td>\n",
       "      <td>255.0</td>\n",
       "      <td>5.8</td>\n",
       "      <td>2.44949</td>\n",
       "      <td>1.022784</td>\n",
       "      <td>9</td>\n",
       "      <td>1</td>\n",
       "      <td>1965</td>\n",
       "      <td>13</td>\n",
       "      <td>32</td>\n",
       "      <td>50</td>\n",
       "      <td>0</td>\n",
       "      <td>0</td>\n",
       "      <td>1</td>\n",
       "      <td>0</td>\n",
       "      <td>0</td>\n",
       "      <td>0</td>\n",
       "      <td>0</td>\n",
       "      <td>1</td>\n",
       "      <td>0</td>\n",
       "      <td>0</td>\n",
       "      <td>0</td>\n",
       "      <td>1</td>\n",
       "      <td>0</td>\n",
       "      <td>0</td>\n",
       "      <td>0</td>\n",
       "      <td>1</td>\n",
       "      <td>0</td>\n",
       "      <td>0</td>\n",
       "      <td>0</td>\n",
       "      <td>0</td>\n",
       "    </tr>\n",
       "    <tr>\n",
       "      <th>5</th>\n",
       "      <td>-13.405</td>\n",
       "      <td>166.629</td>\n",
       "      <td>2.432299</td>\n",
       "      <td>1.367782</td>\n",
       "      <td>255.0</td>\n",
       "      <td>6.7</td>\n",
       "      <td>2.44949</td>\n",
       "      <td>1.022784</td>\n",
       "      <td>10</td>\n",
       "      <td>1</td>\n",
       "      <td>1965</td>\n",
       "      <td>13</td>\n",
       "      <td>36</td>\n",
       "      <td>32</td>\n",
       "      <td>0</td>\n",
       "      <td>0</td>\n",
       "      <td>1</td>\n",
       "      <td>0</td>\n",
       "      <td>0</td>\n",
       "      <td>0</td>\n",
       "      <td>0</td>\n",
       "      <td>1</td>\n",
       "      <td>0</td>\n",
       "      <td>0</td>\n",
       "      <td>0</td>\n",
       "      <td>1</td>\n",
       "      <td>0</td>\n",
       "      <td>0</td>\n",
       "      <td>0</td>\n",
       "      <td>1</td>\n",
       "      <td>0</td>\n",
       "      <td>0</td>\n",
       "      <td>0</td>\n",
       "      <td>0</td>\n",
       "    </tr>\n",
       "  </tbody>\n",
       "</table>\n",
       "</div>"
      ],
      "text/plain": [
       "   Latitude  Longitude     Depth  Depth Error  Depth Seismic Stations  \\\n",
       "0    19.246    145.616  3.386990     1.367782                   255.0   \n",
       "1     1.863    127.352  2.990698     1.367782                   255.0   \n",
       "2   -20.579   -173.972  2.114743     1.367782                   255.0   \n",
       "4    11.938    126.427  1.967990     1.367782                   255.0   \n",
       "5   -13.405    166.629  2.432299     1.367782                   255.0   \n",
       "\n",
       "   Magnitude  Azimuthal Gap  Root Mean Square  Day  Month  Year  Hours  \\\n",
       "0        6.0        2.44949          1.022784    2      1  1965     13   \n",
       "1        5.8        2.44949          1.022784    4      1  1965     11   \n",
       "2        6.2        2.44949          1.022784    5      1  1965     18   \n",
       "4        5.8        2.44949          1.022784    9      1  1965     13   \n",
       "5        6.7        2.44949          1.022784   10      1  1965     13   \n",
       "\n",
       "   Minutes  Seconds  Type_Explosion  Magnitude Type_MS  Magnitude Type_MW  \\\n",
       "0       44       18               0                  0                  1   \n",
       "1       29       49               0                  0                  1   \n",
       "2        5       58               0                  0                  1   \n",
       "4       32       50               0                  0                  1   \n",
       "5       36       32               0                  0                  1   \n",
       "\n",
       "   Magnitude Type_MWB  Magnitude Type_MWC  Magnitude Type_MWR  \\\n",
       "0                   0                   0                   0   \n",
       "1                   0                   0                   0   \n",
       "2                   0                   0                   0   \n",
       "4                   0                   0                   0   \n",
       "5                   0                   0                   0   \n",
       "\n",
       "   Magnitude Type_MWW  Source_ISCGEM  Source_ISCGEMSUP  Source_US  \\\n",
       "0                   0              1                 0          0   \n",
       "1                   0              1                 0          0   \n",
       "2                   0              1                 0          0   \n",
       "4                   0              1                 0          0   \n",
       "5                   0              1                 0          0   \n",
       "\n",
       "   Location Source_GUC  Location Source_ISCGEM  Location Source_Other  \\\n",
       "0                    0                       1                      0   \n",
       "1                    0                       1                      0   \n",
       "2                    0                       1                      0   \n",
       "4                    0                       1                      0   \n",
       "5                    0                       1                      0   \n",
       "\n",
       "   Location Source_US  Magnitude Source_HRV  Magnitude Source_ISCGEM  \\\n",
       "0                   0                     0                        1   \n",
       "1                   0                     0                        1   \n",
       "2                   0                     0                        1   \n",
       "4                   0                     0                        1   \n",
       "5                   0                     0                        1   \n",
       "\n",
       "   Magnitude Source_NC  Magnitude Source_PAR  Magnitude Source_US  \\\n",
       "0                    0                     0                    0   \n",
       "1                    0                     0                    0   \n",
       "2                    0                     0                    0   \n",
       "4                    0                     0                    0   \n",
       "5                    0                     0                    0   \n",
       "\n",
       "   Status_Reviewed  \n",
       "0                0  \n",
       "1                0  \n",
       "2                0  \n",
       "4                0  \n",
       "5                0  "
      ]
     },
     "execution_count": 32,
     "metadata": {},
     "output_type": "execute_result"
    }
   ],
   "source": [
    "df.head(5)"
   ]
  },
  {
   "cell_type": "code",
   "execution_count": 33,
   "metadata": {},
   "outputs": [
    {
     "data": {
      "text/plain": [
       "0        6.0\n",
       "1        5.8\n",
       "2        6.2\n",
       "4        5.8\n",
       "5        6.7\n",
       "        ... \n",
       "23392    6.2\n",
       "23395    6.4\n",
       "23397    6.0\n",
       "23398    5.5\n",
       "23400    5.9\n",
       "Name: Magnitude, Length: 14712, dtype: float64"
      ]
     },
     "execution_count": 33,
     "metadata": {},
     "output_type": "execute_result"
    }
   ],
   "source": [
    "m = df.Magnitude\n",
    "m"
   ]
  },
  {
   "cell_type": "code",
   "execution_count": 34,
   "metadata": {},
   "outputs": [],
   "source": [
    "df.drop(['Magnitude'], axis=1, inplace=True)"
   ]
  },
  {
   "cell_type": "code",
   "execution_count": 35,
   "metadata": {},
   "outputs": [],
   "source": [
    "df['Magnitude'] = m"
   ]
  },
  {
   "cell_type": "code",
   "execution_count": 36,
   "metadata": {},
   "outputs": [
    {
     "data": {
      "text/html": [
       "<div>\n",
       "<style scoped>\n",
       "    .dataframe tbody tr th:only-of-type {\n",
       "        vertical-align: middle;\n",
       "    }\n",
       "\n",
       "    .dataframe tbody tr th {\n",
       "        vertical-align: top;\n",
       "    }\n",
       "\n",
       "    .dataframe thead th {\n",
       "        text-align: right;\n",
       "    }\n",
       "</style>\n",
       "<table border=\"1\" class=\"dataframe\">\n",
       "  <thead>\n",
       "    <tr style=\"text-align: right;\">\n",
       "      <th></th>\n",
       "      <th>Latitude</th>\n",
       "      <th>Longitude</th>\n",
       "      <th>Depth</th>\n",
       "      <th>Depth Error</th>\n",
       "      <th>Depth Seismic Stations</th>\n",
       "      <th>Azimuthal Gap</th>\n",
       "      <th>Root Mean Square</th>\n",
       "      <th>Day</th>\n",
       "      <th>Month</th>\n",
       "      <th>Year</th>\n",
       "      <th>Hours</th>\n",
       "      <th>Minutes</th>\n",
       "      <th>Seconds</th>\n",
       "      <th>Type_Explosion</th>\n",
       "      <th>Magnitude Type_MS</th>\n",
       "      <th>Magnitude Type_MW</th>\n",
       "      <th>Magnitude Type_MWB</th>\n",
       "      <th>Magnitude Type_MWC</th>\n",
       "      <th>Magnitude Type_MWR</th>\n",
       "      <th>Magnitude Type_MWW</th>\n",
       "      <th>Source_ISCGEM</th>\n",
       "      <th>Source_ISCGEMSUP</th>\n",
       "      <th>Source_US</th>\n",
       "      <th>Location Source_GUC</th>\n",
       "      <th>Location Source_ISCGEM</th>\n",
       "      <th>Location Source_Other</th>\n",
       "      <th>Location Source_US</th>\n",
       "      <th>Magnitude Source_HRV</th>\n",
       "      <th>Magnitude Source_ISCGEM</th>\n",
       "      <th>Magnitude Source_NC</th>\n",
       "      <th>Magnitude Source_PAR</th>\n",
       "      <th>Magnitude Source_US</th>\n",
       "      <th>Status_Reviewed</th>\n",
       "      <th>Magnitude</th>\n",
       "    </tr>\n",
       "  </thead>\n",
       "  <tbody>\n",
       "    <tr>\n",
       "      <th>0</th>\n",
       "      <td>19.246</td>\n",
       "      <td>145.616</td>\n",
       "      <td>3.386990</td>\n",
       "      <td>1.367782</td>\n",
       "      <td>255.0</td>\n",
       "      <td>2.44949</td>\n",
       "      <td>1.022784</td>\n",
       "      <td>2</td>\n",
       "      <td>1</td>\n",
       "      <td>1965</td>\n",
       "      <td>13</td>\n",
       "      <td>44</td>\n",
       "      <td>18</td>\n",
       "      <td>0</td>\n",
       "      <td>0</td>\n",
       "      <td>1</td>\n",
       "      <td>0</td>\n",
       "      <td>0</td>\n",
       "      <td>0</td>\n",
       "      <td>0</td>\n",
       "      <td>1</td>\n",
       "      <td>0</td>\n",
       "      <td>0</td>\n",
       "      <td>0</td>\n",
       "      <td>1</td>\n",
       "      <td>0</td>\n",
       "      <td>0</td>\n",
       "      <td>0</td>\n",
       "      <td>1</td>\n",
       "      <td>0</td>\n",
       "      <td>0</td>\n",
       "      <td>0</td>\n",
       "      <td>0</td>\n",
       "      <td>6.0</td>\n",
       "    </tr>\n",
       "    <tr>\n",
       "      <th>1</th>\n",
       "      <td>1.863</td>\n",
       "      <td>127.352</td>\n",
       "      <td>2.990698</td>\n",
       "      <td>1.367782</td>\n",
       "      <td>255.0</td>\n",
       "      <td>2.44949</td>\n",
       "      <td>1.022784</td>\n",
       "      <td>4</td>\n",
       "      <td>1</td>\n",
       "      <td>1965</td>\n",
       "      <td>11</td>\n",
       "      <td>29</td>\n",
       "      <td>49</td>\n",
       "      <td>0</td>\n",
       "      <td>0</td>\n",
       "      <td>1</td>\n",
       "      <td>0</td>\n",
       "      <td>0</td>\n",
       "      <td>0</td>\n",
       "      <td>0</td>\n",
       "      <td>1</td>\n",
       "      <td>0</td>\n",
       "      <td>0</td>\n",
       "      <td>0</td>\n",
       "      <td>1</td>\n",
       "      <td>0</td>\n",
       "      <td>0</td>\n",
       "      <td>0</td>\n",
       "      <td>1</td>\n",
       "      <td>0</td>\n",
       "      <td>0</td>\n",
       "      <td>0</td>\n",
       "      <td>0</td>\n",
       "      <td>5.8</td>\n",
       "    </tr>\n",
       "    <tr>\n",
       "      <th>2</th>\n",
       "      <td>-20.579</td>\n",
       "      <td>-173.972</td>\n",
       "      <td>2.114743</td>\n",
       "      <td>1.367782</td>\n",
       "      <td>255.0</td>\n",
       "      <td>2.44949</td>\n",
       "      <td>1.022784</td>\n",
       "      <td>5</td>\n",
       "      <td>1</td>\n",
       "      <td>1965</td>\n",
       "      <td>18</td>\n",
       "      <td>5</td>\n",
       "      <td>58</td>\n",
       "      <td>0</td>\n",
       "      <td>0</td>\n",
       "      <td>1</td>\n",
       "      <td>0</td>\n",
       "      <td>0</td>\n",
       "      <td>0</td>\n",
       "      <td>0</td>\n",
       "      <td>1</td>\n",
       "      <td>0</td>\n",
       "      <td>0</td>\n",
       "      <td>0</td>\n",
       "      <td>1</td>\n",
       "      <td>0</td>\n",
       "      <td>0</td>\n",
       "      <td>0</td>\n",
       "      <td>1</td>\n",
       "      <td>0</td>\n",
       "      <td>0</td>\n",
       "      <td>0</td>\n",
       "      <td>0</td>\n",
       "      <td>6.2</td>\n",
       "    </tr>\n",
       "    <tr>\n",
       "      <th>4</th>\n",
       "      <td>11.938</td>\n",
       "      <td>126.427</td>\n",
       "      <td>1.967990</td>\n",
       "      <td>1.367782</td>\n",
       "      <td>255.0</td>\n",
       "      <td>2.44949</td>\n",
       "      <td>1.022784</td>\n",
       "      <td>9</td>\n",
       "      <td>1</td>\n",
       "      <td>1965</td>\n",
       "      <td>13</td>\n",
       "      <td>32</td>\n",
       "      <td>50</td>\n",
       "      <td>0</td>\n",
       "      <td>0</td>\n",
       "      <td>1</td>\n",
       "      <td>0</td>\n",
       "      <td>0</td>\n",
       "      <td>0</td>\n",
       "      <td>0</td>\n",
       "      <td>1</td>\n",
       "      <td>0</td>\n",
       "      <td>0</td>\n",
       "      <td>0</td>\n",
       "      <td>1</td>\n",
       "      <td>0</td>\n",
       "      <td>0</td>\n",
       "      <td>0</td>\n",
       "      <td>1</td>\n",
       "      <td>0</td>\n",
       "      <td>0</td>\n",
       "      <td>0</td>\n",
       "      <td>0</td>\n",
       "      <td>5.8</td>\n",
       "    </tr>\n",
       "    <tr>\n",
       "      <th>5</th>\n",
       "      <td>-13.405</td>\n",
       "      <td>166.629</td>\n",
       "      <td>2.432299</td>\n",
       "      <td>1.367782</td>\n",
       "      <td>255.0</td>\n",
       "      <td>2.44949</td>\n",
       "      <td>1.022784</td>\n",
       "      <td>10</td>\n",
       "      <td>1</td>\n",
       "      <td>1965</td>\n",
       "      <td>13</td>\n",
       "      <td>36</td>\n",
       "      <td>32</td>\n",
       "      <td>0</td>\n",
       "      <td>0</td>\n",
       "      <td>1</td>\n",
       "      <td>0</td>\n",
       "      <td>0</td>\n",
       "      <td>0</td>\n",
       "      <td>0</td>\n",
       "      <td>1</td>\n",
       "      <td>0</td>\n",
       "      <td>0</td>\n",
       "      <td>0</td>\n",
       "      <td>1</td>\n",
       "      <td>0</td>\n",
       "      <td>0</td>\n",
       "      <td>0</td>\n",
       "      <td>1</td>\n",
       "      <td>0</td>\n",
       "      <td>0</td>\n",
       "      <td>0</td>\n",
       "      <td>0</td>\n",
       "      <td>6.7</td>\n",
       "    </tr>\n",
       "  </tbody>\n",
       "</table>\n",
       "</div>"
      ],
      "text/plain": [
       "   Latitude  Longitude     Depth  Depth Error  Depth Seismic Stations  \\\n",
       "0    19.246    145.616  3.386990     1.367782                   255.0   \n",
       "1     1.863    127.352  2.990698     1.367782                   255.0   \n",
       "2   -20.579   -173.972  2.114743     1.367782                   255.0   \n",
       "4    11.938    126.427  1.967990     1.367782                   255.0   \n",
       "5   -13.405    166.629  2.432299     1.367782                   255.0   \n",
       "\n",
       "   Azimuthal Gap  Root Mean Square  Day  Month  Year  Hours  Minutes  Seconds  \\\n",
       "0        2.44949          1.022784    2      1  1965     13       44       18   \n",
       "1        2.44949          1.022784    4      1  1965     11       29       49   \n",
       "2        2.44949          1.022784    5      1  1965     18        5       58   \n",
       "4        2.44949          1.022784    9      1  1965     13       32       50   \n",
       "5        2.44949          1.022784   10      1  1965     13       36       32   \n",
       "\n",
       "   Type_Explosion  Magnitude Type_MS  Magnitude Type_MW  Magnitude Type_MWB  \\\n",
       "0               0                  0                  1                   0   \n",
       "1               0                  0                  1                   0   \n",
       "2               0                  0                  1                   0   \n",
       "4               0                  0                  1                   0   \n",
       "5               0                  0                  1                   0   \n",
       "\n",
       "   Magnitude Type_MWC  Magnitude Type_MWR  Magnitude Type_MWW  Source_ISCGEM  \\\n",
       "0                   0                   0                   0              1   \n",
       "1                   0                   0                   0              1   \n",
       "2                   0                   0                   0              1   \n",
       "4                   0                   0                   0              1   \n",
       "5                   0                   0                   0              1   \n",
       "\n",
       "   Source_ISCGEMSUP  Source_US  Location Source_GUC  Location Source_ISCGEM  \\\n",
       "0                 0          0                    0                       1   \n",
       "1                 0          0                    0                       1   \n",
       "2                 0          0                    0                       1   \n",
       "4                 0          0                    0                       1   \n",
       "5                 0          0                    0                       1   \n",
       "\n",
       "   Location Source_Other  Location Source_US  Magnitude Source_HRV  \\\n",
       "0                      0                   0                     0   \n",
       "1                      0                   0                     0   \n",
       "2                      0                   0                     0   \n",
       "4                      0                   0                     0   \n",
       "5                      0                   0                     0   \n",
       "\n",
       "   Magnitude Source_ISCGEM  Magnitude Source_NC  Magnitude Source_PAR  \\\n",
       "0                        1                    0                     0   \n",
       "1                        1                    0                     0   \n",
       "2                        1                    0                     0   \n",
       "4                        1                    0                     0   \n",
       "5                        1                    0                     0   \n",
       "\n",
       "   Magnitude Source_US  Status_Reviewed  Magnitude  \n",
       "0                    0                0        6.0  \n",
       "1                    0                0        5.8  \n",
       "2                    0                0        6.2  \n",
       "4                    0                0        5.8  \n",
       "5                    0                0        6.7  "
      ]
     },
     "execution_count": 36,
     "metadata": {},
     "output_type": "execute_result"
    }
   ],
   "source": [
    "df.head(5)"
   ]
  },
  {
   "cell_type": "markdown",
   "metadata": {},
   "source": [
    "#### Splitting the dataset"
   ]
  },
  {
   "cell_type": "code",
   "execution_count": 37,
   "metadata": {},
   "outputs": [],
   "source": [
    "X = df.iloc[:, :-1]"
   ]
  },
  {
   "cell_type": "code",
   "execution_count": 38,
   "metadata": {},
   "outputs": [],
   "source": [
    "y = df.iloc[:,-1]"
   ]
  },
  {
   "cell_type": "code",
   "execution_count": 39,
   "metadata": {},
   "outputs": [],
   "source": [
    "from sklearn.model_selection import train_test_split\n",
    "X_train, X_test, y_train, y_test = train_test_split(X, y, test_size=0.3, random_state=124)"
   ]
  },
  {
   "cell_type": "code",
   "execution_count": 40,
   "metadata": {},
   "outputs": [
    {
     "data": {
      "text/plain": [
       "(10298, 33)"
      ]
     },
     "execution_count": 40,
     "metadata": {},
     "output_type": "execute_result"
    }
   ],
   "source": [
    "X_train.shape"
   ]
  },
  {
   "cell_type": "code",
   "execution_count": 41,
   "metadata": {},
   "outputs": [
    {
     "data": {
      "text/plain": [
       "(4414, 33)"
      ]
     },
     "execution_count": 41,
     "metadata": {},
     "output_type": "execute_result"
    }
   ],
   "source": [
    "X_test.shape"
   ]
  },
  {
   "cell_type": "code",
   "execution_count": 42,
   "metadata": {},
   "outputs": [
    {
     "data": {
      "text/plain": [
       "(10298,)"
      ]
     },
     "execution_count": 42,
     "metadata": {},
     "output_type": "execute_result"
    }
   ],
   "source": [
    "y_train.shape"
   ]
  },
  {
   "cell_type": "code",
   "execution_count": 43,
   "metadata": {},
   "outputs": [
    {
     "data": {
      "text/plain": [
       "(4414,)"
      ]
     },
     "execution_count": 43,
     "metadata": {},
     "output_type": "execute_result"
    }
   ],
   "source": [
    "y_test.shape"
   ]
  },
  {
   "cell_type": "markdown",
   "metadata": {},
   "source": [
    "#### Model Building"
   ]
  },
  {
   "cell_type": "markdown",
   "metadata": {},
   "source": [
    "*We will create a Linear Regression model*"
   ]
  },
  {
   "cell_type": "code",
   "execution_count": 44,
   "metadata": {},
   "outputs": [],
   "source": [
    "from sklearn.linear_model import LinearRegression"
   ]
  },
  {
   "cell_type": "code",
   "execution_count": 45,
   "metadata": {},
   "outputs": [],
   "source": [
    "regressor = LinearRegression()"
   ]
  },
  {
   "cell_type": "code",
   "execution_count": 46,
   "metadata": {},
   "outputs": [
    {
     "data": {
      "text/plain": [
       "LinearRegression()"
      ]
     },
     "execution_count": 46,
     "metadata": {},
     "output_type": "execute_result"
    }
   ],
   "source": [
    "regressor.fit(X_train, y_train)"
   ]
  },
  {
   "cell_type": "code",
   "execution_count": 47,
   "metadata": {},
   "outputs": [
    {
     "name": "stdout",
     "output_type": "stream",
     "text": [
      "Intercept :  11.597912184513035\n"
     ]
    }
   ],
   "source": [
    "print(\"Intercept : \", regressor.intercept_)"
   ]
  },
  {
   "cell_type": "code",
   "execution_count": 48,
   "metadata": {},
   "outputs": [
    {
     "data": {
      "text/plain": [
       "array([-3.15770838e-04,  1.36554916e-04, -2.00393600e-02, -3.83504348e-01,\n",
       "        9.64691635e-04, -2.65123611e-01,  3.90600931e-01,  1.95582962e-04,\n",
       "       -9.56857927e-04, -2.74751865e-03, -2.18851070e-04,  3.25368692e-04,\n",
       "       -8.01174340e-05,  1.97524915e-01,  2.89490748e-01,  2.69983685e-01,\n",
       "        2.89622565e-01,  3.32247948e-01, -1.02590030e-01,  2.67241243e-01,\n",
       "        3.16294517e-02,  2.18126640e-02, -2.32113869e-02,  2.41752703e-03,\n",
       "        5.34421157e-02, -6.53188360e-02,  3.96899221e-02,  2.91299641e-02,\n",
       "        5.34421157e-02,  5.26067521e-01,  1.02178662e+00,  1.39997853e-01,\n",
       "       -2.32113869e-02])"
      ]
     },
     "execution_count": 48,
     "metadata": {},
     "output_type": "execute_result"
    }
   ],
   "source": [
    "regressor.coef_"
   ]
  },
  {
   "cell_type": "code",
   "execution_count": 49,
   "metadata": {},
   "outputs": [],
   "source": [
    "y_pred = regressor.predict(X_test)"
   ]
  },
  {
   "cell_type": "code",
   "execution_count": 50,
   "metadata": {},
   "outputs": [],
   "source": [
    "from sklearn import metrics"
   ]
  },
  {
   "cell_type": "code",
   "execution_count": 51,
   "metadata": {},
   "outputs": [
    {
     "name": "stdout",
     "output_type": "stream",
     "text": [
      "Mean absolute error :  0.2615138871898166\n",
      "Mean squared error :  0.11502161944510074\n",
      "Root mean squared error :  0.3391483737910308\n"
     ]
    }
   ],
   "source": [
    "print(\"Mean absolute error : \", metrics.mean_absolute_error(y_test, y_pred))\n",
    "print(\"Mean squared error : \", metrics.mean_squared_error(y_test, y_pred))\n",
    "print(\"Root mean squared error : \", np.sqrt(metrics.mean_squared_error(y_test, y_pred)))"
   ]
  },
  {
   "cell_type": "code",
   "execution_count": 52,
   "metadata": {},
   "outputs": [
    {
     "data": {
      "text/plain": [
       "<matplotlib.axes._subplots.AxesSubplot at 0x260a3ab9640>"
      ]
     },
     "execution_count": 52,
     "metadata": {},
     "output_type": "execute_result"
    },
    {
     "data": {
      "image/png": "[encoded data removed]",
      "text/plain": [
       "<Figure size 432x288 with 1 Axes>"
      ]
     },
     "metadata": {
      "needs_background": "light"
     },
     "output_type": "display_data"
    }
   ],
   "source": [
    "sns.distplot(y_test-y_pred)"
   ]
  },
  {
   "cell_type": "code",
   "execution_count": 82,
   "metadata": {},
   "outputs": [
    {
     "data": {
      "text/plain": [
       "(6.383271296581545, 6.7)"
      ]
     },
     "execution_count": 82,
     "metadata": {},
     "output_type": "execute_result"
    }
   ],
   "source": [
    "y_pred[2109], y_test.tolist()[2109]"
   ]
  },
  {
   "cell_type": "markdown",
   "metadata": {},
   "source": [
    "*Now we will build RandomForestRegressor model*"
   ]
  },
  {
   "cell_type": "code",
   "execution_count": 53,
   "metadata": {},
   "outputs": [],
   "source": [
    "from sklearn.ensemble import RandomForestRegressor"
   ]
  },
  {
   "cell_type": "code",
   "execution_count": null,
   "metadata": {},
   "outputs": [],
   "source": [
    "n_estimators = [int(x) for x in np.linspace(start = 100, stop = 1200, num = 12)]\n",
    "print(n_estimators)"
   ]
  },
  {
   "cell_type": "code",
   "execution_count": null,
   "metadata": {},
   "outputs": [],
   "source": [
    "#Number of features to consider at every split\n",
    "max_features = ['auto', 'sqrt']\n",
    "#Maximum number of levels in tree\n",
    "max_depth = [int(x) for x in np.linspace(start = 5, stop = 30, num = 6)]\n",
    "#Minimum number of samples required to split a node\n",
    "min_samples_split = [2, 5, 10, 15, 100]\n",
    "#Minimum number of samples required at each leaf node\n",
    "min_samples_leaf = [1, 2, 5, 10]"
   ]
  },
  {
   "cell_type": "code",
   "execution_count": null,
   "metadata": {},
   "outputs": [],
   "source": [
    "from sklearn.model_selection import RandomizedSearchCV"
   ]
  },
  {
   "cell_type": "code",
   "execution_count": null,
   "metadata": {},
   "outputs": [],
   "source": [
    "random_grid = {'n_estimators': n_estimators,\n",
    "              'max_features': max_features,\n",
    "              'max_depth': max_depth,\n",
    "              'min_samples_split': min_samples_split,\n",
    "               'min_samples_leaf': min_samples_leaf}\n",
    "\n",
    "random_grid"
   ]
  },
  {
   "cell_type": "code",
   "execution_count": null,
   "metadata": {},
   "outputs": [],
   "source": [
    "rfc = RandomForestRegressor()\n",
    "rsc = RandomizedSearchCV(estimator = rfc, param_distributions = random_grid, scoring = 'neg_mean_squared_error', n_iter = 10, cv = 5, random_state = 42, verbose = 2, n_jobs=1)"
   ]
  },
  {
   "cell_type": "code",
   "execution_count": null,
   "metadata": {},
   "outputs": [],
   "source": [
    "rsc.fit(X_train, y_train)"
   ]
  },
  {
   "cell_type": "code",
   "execution_count": null,
   "metadata": {},
   "outputs": [],
   "source": [
    "prediction = rsc.predict(X_test)\n",
    "prediction"
   ]
  },
  {
   "cell_type": "code",
   "execution_count": null,
   "metadata": {},
   "outputs": [],
   "source": [
    "y_test"
   ]
  },
  {
   "cell_type": "code",
   "execution_count": null,
   "metadata": {},
   "outputs": [],
   "source": [
    "rsc.best_params_"
   ]
  },
  {
   "cell_type": "code",
   "execution_count": null,
   "metadata": {},
   "outputs": [],
   "source": [
    "plt.figure(figsize = (5,5))\n",
    "sns.distplot(y_test-prediction)\n",
    "plt.show()"
   ]
  },
  {
   "cell_type": "code",
   "execution_count": null,
   "metadata": {},
   "outputs": [],
   "source": [
    "print(\"Mean absolute error : \", metrics.mean_absolute_error(y_test, prediction))\n",
    "print(\"Mean squared error : \", metrics.mean_squared_error(y_test, prediction))\n",
    "print(\"Root mean squared error : \", np.sqrt(metrics.mean_squared_error(y_test, prediction)))"
   ]
  },
  {
   "cell_type": "code",
   "execution_count": null,
   "metadata": {},
   "outputs": [],
   "source": []
  }
 ],
 "metadata": {
  "kernelspec": {
   "display_name": "Python 3",
   "language": "python",
   "name": "python3"
  },
  "language_info": {
   "codemirror_mode": {
    "name": "ipython",
    "version": 3
   },
   "file_extension": ".py",
   "mimetype": "text/x-python",
   "name": "python",
   "nbconvert_exporter": "python",
   "pygments_lexer": "ipython3",
   "version": "3.8.3"
  }
 },
 "nbformat": 4,
 "nbformat_minor": 4
}
